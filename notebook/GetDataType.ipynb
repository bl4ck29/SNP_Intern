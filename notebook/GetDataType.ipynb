{
 "cells": [
  {
   "cell_type": "code",
   "execution_count": 1,
   "id": "f5e7e947",
   "metadata": {},
   "outputs": [],
   "source": [
    "import pandas, re"
   ]
  },
  {
   "cell_type": "code",
   "execution_count": 2,
   "id": "a36e3c9e",
   "metadata": {},
   "outputs": [],
   "source": [
    "file_name = \"../../Data_SNP_Intern/TOPO_DATA_DESCRIPTION.xlsx\"\n",
    "file = pandas.ExcelFile(file_name)"
   ]
  },
  {
   "cell_type": "code",
   "execution_count": 3,
   "id": "692049c3",
   "metadata": {},
   "outputs": [
    {
     "data": {
      "text/plain": [
       "['VESSEL_DETAILS',\n",
       " 'ITEM',\n",
       " 'ITEM_LOCATION',\n",
       " 'ITEM_REEFER',\n",
       " 'ITEM_OOG',\n",
       " 'ITEM_DANGEROUS',\n",
       " 'PREGATE_TRANSACT',\n",
       " 'DISCHARGE_LIST',\n",
       " 'EDI_ITEM_PRE_ADVICE',\n",
       " 'OPERATION_METHOD',\n",
       " 'YARD_AREA']"
      ]
     },
     "execution_count": 3,
     "metadata": {},
     "output_type": "execute_result"
    }
   ],
   "source": [
    "sheets = file.sheet_names\n",
    "sheets.remove(\"TOPOVN\")\n",
    "sheets"
   ]
  },
  {
   "cell_type": "code",
   "execution_count": 49,
   "id": "9ff758d2",
   "metadata": {},
   "outputs": [
    {
     "name": "stdout",
     "output_type": "stream",
     "text": [
      "create table VESSEL_DETAILS (VES_ID char(12),\n",
      "SITE_ID char(6),\n",
      "TFC_CODE_E char(12),\n",
      "TFC_CODE_I char(12),\n",
      "VES_CD char(4),\n",
      "VES_NAME char(30),\n",
      "VES_DEP_DATE datetime,\n",
      "VES_SERVICE char(10),\n",
      "VES_STATUS char(1),\n",
      "VES_TYPE char(1),\n",
      "CALL_SIGN char(20),\n",
      "IN_VOYAGE char(12),\n",
      "OUT_VOYAGE char(12),\n",
      "LINE_OPER char(7),\n",
      "AGENT char(3),\n",
      "OWNER char(6),\n",
      "BERTH_NO char(5),\n",
      "ACT_ANCHORAGE_TS datetime,\n",
      "ACT_BERTH_TS datetime,\n",
      "ACT_DEP_TS datetime,\n",
      "ACT_END_WORK_TS datetime,\n",
      "ACT_PILOT_TS datetime,\n",
      "ACT_START_WORK_TS datetime,\n",
      "OCEAN_INTERISLAND char(1),\n",
      "ALL_LINES char(1),\n",
      "VES_LENGTH numeric(9,3),\n",
      "AVAILABLE_TS datetime,\n",
      "BERTH_FR_METRE int,\n",
      "BERTH_GRID char(5),\n",
      "BERTH_TO_METRE int,\n",
      "BILLING_COMPLETE char(1),\n",
      "BTOA_SIDE char(1),\n",
      "CLEARANCE_AREA char(5),\n",
      "DEST_PORT char(6),\n",
      "DOCO_CUTOFF_TS datetime,\n",
      "EFFECTIVE_TIME numeric(9,3),\n",
      "EST_ANCHORAGE_TS datetime,\n",
      "EST_BERTH_TS datetime,\n",
      "EST_DEP_TS datetime,\n",
      ")\n"
     ]
    }
   ],
   "source": [
    "datatype = []\n",
    "for name in sheets:\n",
    "    data = pandas.read_excel(file, sheet_name=name, header=1)\n",
    "    columns = GetColumnName(list(data.columns))\n",
    "    dct = {}\n",
    "    try:\n",
    "        data = data.dropna(subset=[columns[0]])\n",
    "        col_columns = data[columns[0]].tolist()\n",
    "        col_datatype = [ConvertToSQLDatatype(i) for i in data[columns[1]].tolist()]\n",
    "        sql_tablebody = ''\n",
    "        for i in range(len(col_columns)):\n",
    "            sql_tablebody += col_columns[i] + ' ' + col_datatype[i] + \",\\n\"\n",
    "        sql_command = \"create table {name} ({body})\\n\".format(name=name, body=sql_tablebody)\n",
    "        print(sql_command)\n",
    "    except KeyError as noColumn:\n",
    "        print(name, noColumn)\n",
    "        continue\n",
    "    break"
   ]
  },
  {
   "cell_type": "code",
   "execution_count": 19,
   "id": "48342f33",
   "metadata": {},
   "outputs": [],
   "source": [
    "def GetColumnName(lst):\n",
    "    patt_col = 'column(.)*'\n",
    "    patt_data =  'data type'\n",
    "    col_columnName = list(filter(lambda x: re.match(patt_col, x.lower()), lst))\n",
    "    col_datatype = list(filter(lambda x: re.match(patt_data, x.lower()), lst))\n",
    "    return [col_columnName.pop(0), col_datatype.pop(0)]"
   ]
  },
  {
   "cell_type": "code",
   "execution_count": 45,
   "id": "7ed791ff",
   "metadata": {},
   "outputs": [],
   "source": [
    "def ConvertToSQLDatatype(text):\n",
    "    text = text.lower().replace(' ', '')\n",
    "    if text == 'date':\n",
    "        text = 'datetime'\n",
    "    if 'byte' in text:\n",
    "        text = text.replace('byte', '')\n",
    "    patt_numeric = '(.)*([0-9],[0-9])'\n",
    "    if re.match(patt_numeric, text):\n",
    "        text = text.replace('number', 'numeric')\n",
    "    elif 'number' in text:\n",
    "        text= 'int'\n",
    "    return text"
   ]
  },
  {
   "cell_type": "code",
   "execution_count": 44,
   "id": "c559d619",
   "metadata": {},
   "outputs": [
    {
     "data": {
      "text/plain": [
       "['Column Name']"
      ]
     },
     "execution_count": 44,
     "metadata": {},
     "output_type": "execute_result"
    }
   ],
   "source": [
    "list(filter(lambda x: re.match(patt_col, x.lower()), lst))"
   ]
  },
  {
   "cell_type": "code",
   "execution_count": 38,
   "id": "9cb77fac",
   "metadata": {},
   "outputs": [],
   "source": [
    "patt_numeric = '(.)*([0-9],[0-9])'\n",
    "text = 'number(9)'\n",
    "if re.match(patt_numeric, text):\n",
    "    print('a')"
   ]
  },
  {
   "cell_type": "code",
   "execution_count": 34,
   "id": "b5cce7b0",
   "metadata": {},
   "outputs": [],
   "source": [
    "data = pandas.read_excel(\"../../Data_SNP_Intern/11_YARD_AREA.xlsx\")"
   ]
  },
  {
   "cell_type": "code",
   "execution_count": 9,
   "id": "897918de",
   "metadata": {},
   "outputs": [],
   "source": [
    "start = data.loc[0, 'FR_DATE']\n",
    "end = data.loc[0, 'TO_DATE']"
   ]
  },
  {
   "cell_type": "code",
   "execution_count": 47,
   "id": "e1dcf017",
   "metadata": {},
   "outputs": [
    {
     "data": {
      "text/plain": [
       "{'char(1)',\n",
       " 'char(10)',\n",
       " 'char(12)',\n",
       " 'char(15)',\n",
       " 'char(17)',\n",
       " 'char(2)',\n",
       " 'char(20)',\n",
       " 'char(25)',\n",
       " 'char(3)',\n",
       " 'char(30)',\n",
       " 'char(34)',\n",
       " 'char(4)',\n",
       " 'char(5)',\n",
       " 'char(50)',\n",
       " 'char(6)',\n",
       " 'char(7)',\n",
       " 'char(8)',\n",
       " 'datetime',\n",
       " 'int',\n",
       " 'numeric(12,3)',\n",
       " 'numeric(5,0)',\n",
       " 'numeric(5,1)',\n",
       " 'numeric(9,0)',\n",
       " 'numeric(9,3)',\n",
       " 'varchar2(12)',\n",
       " 'varchar2(250)',\n",
       " 'varchar2(50)',\n",
       " 'varchar2(72)'}"
      ]
     },
     "execution_count": 47,
     "metadata": {},
     "output_type": "execute_result"
    }
   ],
   "source": [
    "set(datatype)"
   ]
  },
  {
   "cell_type": "code",
   "execution_count": null,
   "id": "d6051e95",
   "metadata": {},
   "outputs": [],
   "source": []
  }
 ],
 "metadata": {
  "kernelspec": {
   "display_name": "Python 3 (ipykernel)",
   "language": "python",
   "name": "python3"
  },
  "language_info": {
   "codemirror_mode": {
    "name": "ipython",
    "version": 3
   },
   "file_extension": ".py",
   "mimetype": "text/x-python",
   "name": "python",
   "nbconvert_exporter": "python",
   "pygments_lexer": "ipython3",
   "version": "3.9.10"
  }
 },
 "nbformat": 4,
 "nbformat_minor": 5
}
