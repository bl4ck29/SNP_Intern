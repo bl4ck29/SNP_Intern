{
 "cells": [
  {
   "cell_type": "code",
   "execution_count": 7,
   "id": "927f7c91",
   "metadata": {},
   "outputs": [],
   "source": [
    "import pandas, urllib, datetime\n",
    "\n",
    "import pandas.io.sql as psql\n",
    "from sqlalchemy import create_engine\n",
    "\n",
    "params = urllib.parse.quote_plus('DRIVER={ODBC Driver 17 for SQL Server};SERVER=%s,%s;DATABASE=%s;UID=%s;PWD=%s'%('localhost', '1433', 'ThuctapSNP', 'sa', 'Matkhau1234'))\n",
    "engine = create_engine('mssql+pyodbc:///?odbc_connect=%s'%params)"
   ]
  },
  {
   "cell_type": "code",
   "execution_count": 8,
   "id": "e2b5daf6",
   "metadata": {},
   "outputs": [],
   "source": [
    "item = pandas.read_sql('select * from ITEM', engine)\n",
    "item_reefer = pandas.read_sql('select * from ITEM_REEFER', engine)\n",
    "item_dangerous = pandas.read_sql('select * from ITEM_DANGEROUS', engine)\n",
    "item_oog = pandas.read_sql('select * from ITEM_OOG', engine)\n",
    "item_location = pandas.read_sql('select * from ITEM_LOCATION', engine)\n",
    "yard_area = pandas.read_sql('select * from YARD_AREA', engine)\n",
    "pregate_transact = pandas.read_sql('select * from PREGATE_TRANSACT', engine)"
   ]
  },
  {
   "cell_type": "code",
   "execution_count": 9,
   "id": "a5887a12",
   "metadata": {},
   "outputs": [],
   "source": [
    "item = item.loc[\n",
    "    (item['SITE_ID'].str.strip()=='CTL') &\n",
    "    (item['ARR_BY'].str.strip()=='T') &\n",
    "    (item['HIST_FLG'].str.strip()=='Y') &\n",
    "    (item['FEL'].str.strip()=='F')\n",
    "]\n",
    "item = item.drop(['ITEM_TYPE'], axis=1)\n",
    "item = item[['ITEM_KEY', 'ITEM_NO', 'LENGTH', 'ARR_TS', 'DEP_TS']]\n",
    "item = item.reset_index(drop=True)\n",
    "\n",
    "item_location = item_location[['ITEM_KEY', 'STACK', 'EXEC_TS']]\n",
    "\n",
    "\n",
    "item_reefer['ITEM_TYPE'] = 'R'\n",
    "item_reefer = pandas.merge(item_reefer, item, how='left', on='ITEM_KEY')\n",
    "item_reefer = item_reefer[['ITEM_KEY', 'ITEM_TYPE']]\n",
    "\n",
    "item_dangerous['ITEM_TYPE'] = 'D'\n",
    "item_dangerous = pandas.merge(item_dangerous, item, how='left', on='ITEM_KEY')\n",
    "item_dangerous = item_dangerous[['ITEM_KEY', 'ITEM_TYPE']]\n",
    "\n",
    "item_oog['ITEM_TYPE'] = 'O'\n",
    "item_oog = pandas.merge(item_oog, item, how='left', on='ITEM_KEY')\n",
    "item_oog = item_oog[['ITEM_KEY', 'ITEM_TYPE']]\n",
    "\n",
    "item_special = pandas.concat([item_reefer, item_dangerous, item_oog], axis=0)\n",
    "item = pandas.merge(item, item_special, how='left', on='ITEM_KEY').fillna({'ITEM_TYPE' : 'G'})"
   ]
  },
  {
   "cell_type": "code",
   "execution_count": 135,
   "id": "04f68637",
   "metadata": {},
   "outputs": [],
   "source": [
    "item = pandas.merge(item, pregate_transact, how='inner', on='ITEM_KEY', suffixes=('_item', '_pregate'))"
   ]
  },
  {
   "cell_type": "code",
   "execution_count": 192,
   "id": "4476ef8a",
   "metadata": {},
   "outputs": [],
   "source": [
    "item['DURATION'] = item['DEP_TS'] - item['ARR_TS']\n",
    "item['DURATION'] = item['DURATION'].apply(pandas.Timedelta.total_seconds)"
   ]
  },
  {
   "cell_type": "code",
   "execution_count": 159,
   "id": "7ddd0a82",
   "metadata": {},
   "outputs": [],
   "source": [
    "item['STACK'] = None\n",
    "item['EXEC_TS'] = None\n",
    "for i in range((len(item))):\n",
    "    row = item.loc[i]\n",
    "    r_d = row['R_D']\n",
    "    lstSTACK = []\n",
    "    if r_d==None:\n",
    "        continue\n",
    "    elif r_d.strip() == 'R':\n",
    "        year = row['ARR_TS'].to_pydatetime().year\n",
    "        if year > 1900:\n",
    "            item.loc[i, 'EXEC_TS'] = row['ARR_TS']\n",
    "            lstSTACK = item_location.loc[\n",
    "                (item_location['ITEM_KEY'] == row['ITEM_KEY']) &\n",
    "                (item_location['EXEC_TS'] > row['ARR_TS'])\n",
    "            ].sort_values(['EXEC_TS'], ascending=[True])['STACK'].tolist()\n",
    "        else:\n",
    "            item = item.drop(i)\n",
    "            item = item.reset_index(drop=True)\n",
    "    elif r_d.strip() == 'D':\n",
    "        year = row['DEP_TS'].to_pydatetime().year\n",
    "        if year > 1900:\n",
    "            item.loc[i, 'EXEC_TS'] = row['DEP_TS']\n",
    "            lstSTACK = item_location.loc[\n",
    "                (item_location['ITEM_KEY'] == row['ITEM_KEY'])\n",
    "            ].sort_values(['EXEC_TS'], ascending=[False])['STACK'].tolist()\n",
    "        else:\n",
    "            item = item.drop(i)\n",
    "            item = item.reset_index(drop=True)\n",
    "    while len(lstSTACK)>0 and lstSTACK[0]!=None:\n",
    "        item.loc[i, 'STACK'] = lstSTACK[0]\n",
    "        break\n",
    "    else:\n",
    "        lstSTACK.pop(0)"
   ]
  },
  {
   "cell_type": "code",
   "execution_count": 162,
   "id": "34dd4988",
   "metadata": {},
   "outputs": [
    {
     "data": {
      "text/plain": [
       "Index(['ITEM_KEY', 'ITEM_NO_item', 'LENGTH', 'ARR_TS', 'DEP_TS', 'ITEM_TYPE',\n",
       "       'ITEM_NO_pregate', 'CHARGE_BATCH_ID', 'EIR_ID', 'R_D',\n",
       "       'OPERATION_METHOD', 'AREA', 'RECEIVAL_PLACE', 'ISO_CODE', 'CTR_LENGTH',\n",
       "       'CTR_HEIGHT', 'CTR_TYPE', 'OPERATION_TYPE', 'LINE_OPER', 'TFC_CODE',\n",
       "       'CONSIGNOR', 'PLACE_OF_DELIVERY', 'BOOK_NO', 'GROSS', 'VES_CD', 'FPOD',\n",
       "       'VES_ID', 'OUT_VOYAGE', 'SEAL_NO', 'TEMPERATURE', 'FEL', 'CATEGORY',\n",
       "       'MANAGE_BY', 'HIST_FLG', 'KEY_INTF', 'DURATION', 'STACK', 'EXEC_TS'],\n",
       "      dtype='object')"
      ]
     },
     "execution_count": 162,
     "metadata": {},
     "output_type": "execute_result"
    }
   ],
   "source": [
    "item.columns"
   ]
  },
  {
   "cell_type": "code",
   "execution_count": 165,
   "id": "987adf7a",
   "metadata": {},
   "outputs": [],
   "source": [
    "item = item[['ITEM_KEY', 'ITEM_NO_item', 'LENGTH', 'AREA', 'STACK', 'R_D', 'DURATION', 'EXEC_TS', 'ITEM_TYPE']]"
   ]
  },
  {
   "cell_type": "code",
   "execution_count": 171,
   "id": "24ac9bfc",
   "metadata": {},
   "outputs": [],
   "source": [
    "item = item.rename(columns={\n",
    "    'ITEM_NO_item' : 'ITEM_NO'\n",
    "})"
   ]
  },
  {
   "cell_type": "code",
   "execution_count": 172,
   "id": "13af2ddf",
   "metadata": {},
   "outputs": [
    {
     "data": {
      "text/plain": [
       "Index(['ITEM_KEY', 'ITEM_NO', 'LENGTH', 'AREA', 'STACK', 'R_D', 'DURATION',\n",
       "       'EXEC_TS', 'ITEM_TYPE'],\n",
       "      dtype='object')"
      ]
     },
     "execution_count": 172,
     "metadata": {},
     "output_type": "execute_result"
    }
   ],
   "source": [
    "item.columns"
   ]
  },
  {
   "cell_type": "code",
   "execution_count": 168,
   "id": "a45f7433",
   "metadata": {},
   "outputs": [],
   "source": [
    "import pandas.io.sql as psql"
   ]
  },
  {
   "cell_type": "code",
   "execution_count": 173,
   "id": "e312ea80",
   "metadata": {},
   "outputs": [
    {
     "data": {
      "text/plain": [
       "-1"
      ]
     },
     "execution_count": 173,
     "metadata": {},
     "output_type": "execute_result"
    }
   ],
   "source": [
    "psql.to_sql(item, 'stg_TRANSACT', engine, if_exists='append', index=False)"
   ]
  },
  {
   "cell_type": "code",
   "execution_count": 181,
   "id": "b9967a89",
   "metadata": {},
   "outputs": [],
   "source": [
    "receipt = pregate_transact.loc[pregate_transact['R_D'].str.strip()=='R']\n",
    "deport = pregate_transact.loc[pregate_transact['R_D'].str.strip()=='D']"
   ]
  },
  {
   "cell_type": "code",
   "execution_count": 197,
   "id": "4734e530",
   "metadata": {},
   "outputs": [],
   "source": [
    "sample = pandas.merge(item, receipt, how='inner', on='ITEM_KEY', suffixes=('_item', '_pregate'))\n",
    "sample = pandas.merge(sample, item_location, how='inner', on='ITEM_KEY')"
   ]
  },
  {
   "cell_type": "code",
   "execution_count": 208,
   "id": "b4235405",
   "metadata": {},
   "outputs": [],
   "source": [
    "data = pandas.merge(item, deport, how='inner', on='ITEM_KEY', suffixes=('_item', '_pregate')) \n",
    "data = pandas.merge(data, item_location, how='inner', on='ITEM_KEY')"
   ]
  },
  {
   "cell_type": "code",
   "execution_count": 185,
   "id": "ed9525e9",
   "metadata": {},
   "outputs": [],
   "source": [
    "engine.dispose()"
   ]
  },
  {
   "cell_type": "code",
   "execution_count": 209,
   "id": "e91a3eae",
   "metadata": {},
   "outputs": [],
   "source": [
    "sample = sample[['ITEM_KEY', 'ITEM_NO_item', 'LENGTH', 'AREA', 'STACK', 'R_D', 'DURATION', 'EXEC_TS', 'ITEM_TYPE']]\n",
    "data = data[['ITEM_KEY', 'ITEM_NO_item', 'LENGTH', 'AREA', 'STACK', 'R_D', 'DURATION', 'EXEC_TS', 'ITEM_TYPE']]"
   ]
  },
  {
   "cell_type": "code",
   "execution_count": 4,
   "id": "201136e3",
   "metadata": {},
   "outputs": [],
   "source": [
    "import pandas.io.sql as psql"
   ]
  },
  {
   "cell_type": "code",
   "execution_count": 2,
   "id": "cacc3c55",
   "metadata": {},
   "outputs": [],
   "source": [
    "params = urllib.parse.quote_plus('DRIVER={ODBC Driver 17 for SQL Server};SERVER=%s,%s;DATABASE=%s;UID=%s;PWD=%s'%('localhost', '1433', 'DWH_ThuctapSNP', 'sa', 'Matkhau1234'))\n",
    "dwh_engine = create_engine('mssql+pyodbc:///?odbc_connect=%s'%params)"
   ]
  },
  {
   "cell_type": "code",
   "execution_count": 3,
   "id": "ac9a6446",
   "metadata": {},
   "outputs": [],
   "source": [
    "d_location = pandas.read_sql('select * from d_LOCATION', stg_engine)"
   ]
  },
  {
   "cell_type": "code",
   "execution_count": 6,
   "id": "6b7c6ed0",
   "metadata": {},
   "outputs": [
    {
     "data": {
      "text/plain": [
       "-1"
      ]
     },
     "execution_count": 6,
     "metadata": {},
     "output_type": "execute_result"
    }
   ],
   "source": [
    "psql.to_sql(d_location, 'd_LOCATION', con=dwh_engine, index=False)"
   ]
  },
  {
   "cell_type": "code",
   "execution_count": 10,
   "id": "66ea5d33",
   "metadata": {},
   "outputs": [],
   "source": [
    "stg_transact = pandas.read_sql('select * from stg_TRANSACT', engine)"
   ]
  },
  {
   "cell_type": "code",
   "execution_count": 23,
   "id": "d33224a8",
   "metadata": {},
   "outputs": [],
   "source": [
    "sample = pandas.merge(stg_transact, d_location, how='inner', on=['AREA', 'STACK'])"
   ]
  },
  {
   "cell_type": "code",
   "execution_count": 17,
   "id": "44fa6d78",
   "metadata": {},
   "outputs": [],
   "source": [
    "def StripText(text):\n",
    "    try:\n",
    "        return text.strip()\n",
    "    except:\n",
    "        return text"
   ]
  },
  {
   "cell_type": "code",
   "execution_count": 21,
   "id": "bb5a9774",
   "metadata": {},
   "outputs": [],
   "source": [
    "d_location['AREA'] = d_location['AREA'].apply(StripText)"
   ]
  },
  {
   "cell_type": "code",
   "execution_count": 27,
   "id": "5cfc7c84",
   "metadata": {},
   "outputs": [],
   "source": [
    "columns = list(sample.columns)\n",
    "columns.remove('REGION')"
   ]
  },
  {
   "cell_type": "code",
   "execution_count": 29,
   "id": "e2db4d8c",
   "metadata": {},
   "outputs": [],
   "source": [
    "sample = sample[columns]"
   ]
  },
  {
   "cell_type": "code",
   "execution_count": 33,
   "id": "38654ff7",
   "metadata": {},
   "outputs": [],
   "source": [
    "lstGROUP = set([tuple(row) for i, row in sample[['EXEC_TS', 'LOC_ID', 'R_D', 'LENGTH', 'ITEM_TYPE']].iterrows()])"
   ]
  },
  {
   "cell_type": "code",
   "execution_count": 36,
   "id": "5f7804aa",
   "metadata": {},
   "outputs": [],
   "source": [
    "f_transact = pandas.DataFrame([list(i) for i in lstGROUP], columns=['EXEC_TS', 'LOC_ID', 'R_D', 'LENGTH', 'ITEM_TYPE'])"
   ]
  },
  {
   "cell_type": "code",
   "execution_count": 37,
   "id": "01d0a7fb",
   "metadata": {},
   "outputs": [],
   "source": [
    "f_transact['QUANTITY'] = None\n",
    "f_transact['SUM_DURATION'] = None"
   ]
  },
  {
   "cell_type": "code",
   "execution_count": 43,
   "id": "f825be47",
   "metadata": {},
   "outputs": [],
   "source": [
    "for i in range(len(f_transact)):\n",
    "    row = f_transact.loc[i]\n",
    "    filtered = sample.loc[\n",
    "        (sample['EXEC_TS'] == row['EXEC_TS']) &\n",
    "        (sample['LOC_ID'] == row['LOC_ID']) &\n",
    "        (sample['LENGTH'] == row['LENGTH']) &\n",
    "        (sample['ITEM_TYPE'] == row['ITEM_TYPE'])\n",
    "    ]\n",
    "    quantity = len(filtered)\n",
    "    sum_duration = sum(filtered['DURATION'].tolist())\n",
    "    f_transact.loc[i, 'QUANTITY'] = quantity\n",
    "    f_transact.loc[i, 'SUM_DURATION'] = sum_duration"
   ]
  },
  {
   "cell_type": "code",
   "execution_count": 44,
   "id": "81743024",
   "metadata": {},
   "outputs": [
    {
     "data": {
      "text/html": [
       "<div>\n",
       "<style scoped>\n",
       "    .dataframe tbody tr th:only-of-type {\n",
       "        vertical-align: middle;\n",
       "    }\n",
       "\n",
       "    .dataframe tbody tr th {\n",
       "        vertical-align: top;\n",
       "    }\n",
       "\n",
       "    .dataframe thead th {\n",
       "        text-align: right;\n",
       "    }\n",
       "</style>\n",
       "<table border=\"1\" class=\"dataframe\">\n",
       "  <thead>\n",
       "    <tr style=\"text-align: right;\">\n",
       "      <th></th>\n",
       "      <th>EXEC_TS</th>\n",
       "      <th>LOC_ID</th>\n",
       "      <th>R_D</th>\n",
       "      <th>LENGTH</th>\n",
       "      <th>ITEM_TYPE</th>\n",
       "      <th>QUANTITY</th>\n",
       "      <th>SUM_DURATION</th>\n",
       "    </tr>\n",
       "  </thead>\n",
       "  <tbody>\n",
       "    <tr>\n",
       "      <th>0</th>\n",
       "      <td>2020-12-01 03:18:59</td>\n",
       "      <td>15</td>\n",
       "      <td>R</td>\n",
       "      <td>20.0</td>\n",
       "      <td>G</td>\n",
       "      <td>1</td>\n",
       "      <td>607597</td>\n",
       "    </tr>\n",
       "    <tr>\n",
       "      <th>1</th>\n",
       "      <td>2019-02-01 06:16:56</td>\n",
       "      <td>236</td>\n",
       "      <td>R</td>\n",
       "      <td>40.0</td>\n",
       "      <td>G</td>\n",
       "      <td>1</td>\n",
       "      <td>135584</td>\n",
       "    </tr>\n",
       "    <tr>\n",
       "      <th>2</th>\n",
       "      <td>2019-07-01 05:23:05</td>\n",
       "      <td>193</td>\n",
       "      <td>R</td>\n",
       "      <td>20.0</td>\n",
       "      <td>G</td>\n",
       "      <td>1</td>\n",
       "      <td>171422</td>\n",
       "    </tr>\n",
       "    <tr>\n",
       "      <th>3</th>\n",
       "      <td>2020-11-02 06:02:47</td>\n",
       "      <td>147</td>\n",
       "      <td>R</td>\n",
       "      <td>20.0</td>\n",
       "      <td>G</td>\n",
       "      <td>1</td>\n",
       "      <td>1597244</td>\n",
       "    </tr>\n",
       "    <tr>\n",
       "      <th>4</th>\n",
       "      <td>2020-09-01 01:23:46</td>\n",
       "      <td>335</td>\n",
       "      <td>R</td>\n",
       "      <td>40.0</td>\n",
       "      <td>R</td>\n",
       "      <td>1</td>\n",
       "      <td>165389</td>\n",
       "    </tr>\n",
       "    <tr>\n",
       "      <th>...</th>\n",
       "      <td>...</td>\n",
       "      <td>...</td>\n",
       "      <td>...</td>\n",
       "      <td>...</td>\n",
       "      <td>...</td>\n",
       "      <td>...</td>\n",
       "      <td>...</td>\n",
       "    </tr>\n",
       "    <tr>\n",
       "      <th>20797</th>\n",
       "      <td>2020-03-01 04:26:12</td>\n",
       "      <td>149</td>\n",
       "      <td>R</td>\n",
       "      <td>40.0</td>\n",
       "      <td>G</td>\n",
       "      <td>4</td>\n",
       "      <td>1867272</td>\n",
       "    </tr>\n",
       "    <tr>\n",
       "      <th>20798</th>\n",
       "      <td>2020-10-01 03:24:17</td>\n",
       "      <td>90</td>\n",
       "      <td>R</td>\n",
       "      <td>40.0</td>\n",
       "      <td>R</td>\n",
       "      <td>1</td>\n",
       "      <td>74008</td>\n",
       "    </tr>\n",
       "    <tr>\n",
       "      <th>20799</th>\n",
       "      <td>2019-10-04 21:19:35</td>\n",
       "      <td>15</td>\n",
       "      <td>R</td>\n",
       "      <td>20.0</td>\n",
       "      <td>G</td>\n",
       "      <td>1</td>\n",
       "      <td>5422134</td>\n",
       "    </tr>\n",
       "    <tr>\n",
       "      <th>20800</th>\n",
       "      <td>2020-04-01 15:23:29</td>\n",
       "      <td>158</td>\n",
       "      <td>R</td>\n",
       "      <td>40.0</td>\n",
       "      <td>G</td>\n",
       "      <td>1</td>\n",
       "      <td>107485</td>\n",
       "    </tr>\n",
       "    <tr>\n",
       "      <th>20801</th>\n",
       "      <td>2020-07-01 04:02:34</td>\n",
       "      <td>41</td>\n",
       "      <td>R</td>\n",
       "      <td>40.0</td>\n",
       "      <td>G</td>\n",
       "      <td>1</td>\n",
       "      <td>354848</td>\n",
       "    </tr>\n",
       "  </tbody>\n",
       "</table>\n",
       "<p>20802 rows × 7 columns</p>\n",
       "</div>"
      ],
      "text/plain": [
       "                  EXEC_TS  LOC_ID   R_D  LENGTH ITEM_TYPE QUANTITY  \\\n",
       "0     2020-12-01 03:18:59      15  R       20.0         G        1   \n",
       "1     2019-02-01 06:16:56     236  R       40.0         G        1   \n",
       "2     2019-07-01 05:23:05     193  R       20.0         G        1   \n",
       "3     2020-11-02 06:02:47     147  R       20.0         G        1   \n",
       "4     2020-09-01 01:23:46     335  R       40.0         R        1   \n",
       "...                   ...     ...   ...     ...       ...      ...   \n",
       "20797 2020-03-01 04:26:12     149  R       40.0         G        4   \n",
       "20798 2020-10-01 03:24:17      90  R       40.0         R        1   \n",
       "20799 2019-10-04 21:19:35      15  R       20.0         G        1   \n",
       "20800 2020-04-01 15:23:29     158  R       40.0         G        1   \n",
       "20801 2020-07-01 04:02:34      41  R       40.0         G        1   \n",
       "\n",
       "      SUM_DURATION  \n",
       "0           607597  \n",
       "1           135584  \n",
       "2           171422  \n",
       "3          1597244  \n",
       "4           165389  \n",
       "...            ...  \n",
       "20797      1867272  \n",
       "20798        74008  \n",
       "20799      5422134  \n",
       "20800       107485  \n",
       "20801       354848  \n",
       "\n",
       "[20802 rows x 7 columns]"
      ]
     },
     "execution_count": 44,
     "metadata": {},
     "output_type": "execute_result"
    }
   ],
   "source": [
    "f_transact"
   ]
  },
  {
   "cell_type": "code",
   "execution_count": 45,
   "id": "e4c4abf2",
   "metadata": {},
   "outputs": [
    {
     "data": {
      "text/plain": [
       "-1"
      ]
     },
     "execution_count": 45,
     "metadata": {},
     "output_type": "execute_result"
    }
   ],
   "source": [
    "psql.to_sql(f_transact, 'f_TRANSACT', con=dwh_engine, index=False)"
   ]
  },
  {
   "cell_type": "code",
   "execution_count": null,
   "id": "681103b6",
   "metadata": {},
   "outputs": [],
   "source": []
  }
 ],
 "metadata": {
  "kernelspec": {
   "display_name": "Python 3 (ipykernel)",
   "language": "python",
   "name": "python3"
  },
  "language_info": {
   "codemirror_mode": {
    "name": "ipython",
    "version": 3
   },
   "file_extension": ".py",
   "mimetype": "text/x-python",
   "name": "python",
   "nbconvert_exporter": "python",
   "pygments_lexer": "ipython3",
   "version": "3.9.10"
  }
 },
 "nbformat": 4,
 "nbformat_minor": 5
}
