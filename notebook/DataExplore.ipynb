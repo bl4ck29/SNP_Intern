{
 "cells": [
  {
   "cell_type": "code",
   "execution_count": 1,
   "id": "754fcca0",
   "metadata": {},
   "outputs": [],
   "source": [
    "import pandas, os"
   ]
  },
  {
   "cell_type": "code",
   "execution_count": 2,
   "id": "eb18aa1e",
   "metadata": {},
   "outputs": [],
   "source": [
    "item = pandas.read_excel(\"../../Data_SNP_Intern/2_ITEM.xlsx\")"
   ]
  },
  {
   "cell_type": "code",
   "execution_count": 4,
   "id": "adf293fb",
   "metadata": {},
   "outputs": [
    {
     "data": {
      "text/plain": [
       "Index(['ITEM_KEY', 'ITEM_NO', 'SITE_ID', 'ARR_BY', 'ARR_CAR', 'ARR_TS', 'FEL',\n",
       "       'DEP_TS', 'DEP_BY', 'DEP_CAR', 'ISO', 'LENGTH', 'CATEGORY', 'OWNER',\n",
       "       'EXIT_VES_CD', 'EXIT_VOYAGE', 'PLACE_OF_DELIVERY', 'PLACE_OF_RECEIPT',\n",
       "       'ITEM_TYPE', 'SLOT_CODE', 'LINE_OPER', 'AGENT', 'DISCH_PORT',\n",
       "       'FDISCH_PORT', 'HIST_FLG', 'LOAD_PORT', 'LL_DISCH_PORT'],\n",
       "      dtype='object')"
      ]
     },
     "execution_count": 4,
     "metadata": {},
     "output_type": "execute_result"
    }
   ],
   "source": [
    "item.columns"
   ]
  },
  {
   "cell_type": "code",
   "execution_count": 6,
   "id": "29d52143",
   "metadata": {},
   "outputs": [
    {
     "data": {
      "text/plain": [
       "['GP', 'RF', 'TK', 'PL', 'OT']"
      ]
     },
     "execution_count": 6,
     "metadata": {},
     "output_type": "execute_result"
    }
   ],
   "source": [
    "item['ITEM_TYPE'].unique().tolist()"
   ]
  },
  {
   "cell_type": "code",
   "execution_count": 8,
   "id": "4bacf5b1",
   "metadata": {},
   "outputs": [
    {
     "data": {
      "text/plain": [
       "47793"
      ]
     },
     "execution_count": 8,
     "metadata": {},
     "output_type": "execute_result"
    }
   ],
   "source": [
    "len(item['ITEM_NO'].unique().tolist())"
   ]
  },
  {
   "cell_type": "code",
   "execution_count": 11,
   "id": "4b652f56",
   "metadata": {},
   "outputs": [
    {
     "data": {
      "text/plain": [
       "48000"
      ]
     },
     "execution_count": 11,
     "metadata": {},
     "output_type": "execute_result"
    }
   ],
   "source": [
    "len(item['ITEM_KEY'].unique().tolist())"
   ]
  },
  {
   "cell_type": "code",
   "execution_count": 12,
   "id": "ace5447f",
   "metadata": {},
   "outputs": [],
   "source": [
    "item_key_ITEM = item.loc[item['ITEM_TYPE']=='RF']['ITEM_NO'].tolist()"
   ]
  },
  {
   "cell_type": "code",
   "execution_count": 6,
   "id": "2e405042",
   "metadata": {},
   "outputs": [],
   "source": [
    "reefer = pandas.read_excel(\"../../Data_SNP_Intern/4_ITEM_REEFER.xlsx\")"
   ]
  },
  {
   "cell_type": "code",
   "execution_count": 7,
   "id": "9f1397f1",
   "metadata": {},
   "outputs": [
    {
     "data": {
      "text/plain": [
       "Index(['ITEM_KEY', 'CHILLED_TEMP', 'FROZEN_TEMP', 'PTIDATE', 'UPD_TS',\n",
       "       'FROZEN_TYPE'],\n",
       "      dtype='object')"
      ]
     },
     "execution_count": 7,
     "metadata": {},
     "output_type": "execute_result"
    }
   ],
   "source": [
    "reefer.columns"
   ]
  },
  {
   "cell_type": "code",
   "execution_count": 14,
   "id": "c8915102",
   "metadata": {},
   "outputs": [],
   "source": [
    "item_key_REEFER = reefer['ITEM_KEY'].tolist()"
   ]
  },
  {
   "cell_type": "code",
   "execution_count": 9,
   "id": "6cf23979",
   "metadata": {},
   "outputs": [
    {
     "data": {
      "text/plain": [
       "False"
      ]
     },
     "execution_count": 9,
     "metadata": {},
     "output_type": "execute_result"
    }
   ],
   "source": [
    "len(item_key_reefer) == len(item_key_ITEM)"
   ]
  },
  {
   "cell_type": "code",
   "execution_count": 15,
   "id": "6a5e1ccb",
   "metadata": {},
   "outputs": [],
   "source": [
    "lst = list(filter(lambda x: x in item_key_ITEM, item_key_REEFER))"
   ]
  },
  {
   "cell_type": "code",
   "execution_count": 7,
   "id": "15ceca5d",
   "metadata": {},
   "outputs": [],
   "source": [
    "os.chdir(\"../../Data_SNP_Intern\")"
   ]
  },
  {
   "cell_type": "code",
   "execution_count": 9,
   "id": "67407c1e",
   "metadata": {},
   "outputs": [],
   "source": [
    "files = os.listdir()"
   ]
  },
  {
   "cell_type": "code",
   "execution_count": 10,
   "id": "636e48ce",
   "metadata": {},
   "outputs": [
    {
     "data": {
      "text/plain": [
       "['10_OPEARATION_METHOD.csv',\n",
       " '10_OPEARATION_METHOD.xlsx',\n",
       " '11_YARD_AREA.csv',\n",
       " '11_YARD_AREA.xlsx',\n",
       " '1_VESSEL_DETAILS.csv',\n",
       " '1_VESSEL_DETAILS.xlsx',\n",
       " '2_ITEM.csv',\n",
       " '2_ITEM.xlsx',\n",
       " '3_ITEM_LOCATION.csv',\n",
       " '3_ITEM_LOCATION.xlsx',\n",
       " '4_ITEM_REEFER.csv',\n",
       " '4_ITEM_REEFER.xlsx',\n",
       " '5_ITEM_OOG.csv',\n",
       " '5_ITEM_OOG.xlsx',\n",
       " '6_ITEM_DANGEROUS.csv',\n",
       " '6_ITEM_DANGEROUS.xlsx',\n",
       " '7_PREGATE_TRANSACT.csv',\n",
       " '7_PREGATE_TRANSACT.xlsx',\n",
       " '8_DISCHARGE_LIST.csv',\n",
       " '8_DISCHARGE_LIST.xlsx',\n",
       " '9_EDI_ITEM_PRE_ADVICE.csv',\n",
       " '9_EDI_ITEM_PRE_ADVICE.xlsx']"
      ]
     },
     "execution_count": 10,
     "metadata": {},
     "output_type": "execute_result"
    }
   ],
   "source": [
    "for name in files:\n",
    "    data = pandas.read_excel(name)\n",
    "    name = name.replace(\"xlsx\", \"csv\")\n",
    "    data.to_csv(name, index=False)"
   ]
  },
  {
   "cell_type": "code",
   "execution_count": 13,
   "id": "aadff3ea",
   "metadata": {},
   "outputs": [],
   "source": [
    "import pyodbc"
   ]
  },
  {
   "cell_type": "code",
   "execution_count": 17,
   "id": "c8422597",
   "metadata": {},
   "outputs": [],
   "source": [
    "connection = pyodbc.connect(\"Driver={SQL Server};Server=localhost;Database=ThucTapSNP;Trusted_Connection=True\")"
   ]
  },
  {
   "cell_type": "code",
   "execution_count": 18,
   "id": "04168be0",
   "metadata": {},
   "outputs": [],
   "source": [
    "cursor = connection.cursor()"
   ]
  },
  {
   "cell_type": "code",
   "execution_count": 21,
   "id": "6599fe54",
   "metadata": {},
   "outputs": [],
   "source": [
    "tables = cursor.tables()"
   ]
  },
  {
   "cell_type": "code",
   "execution_count": 24,
   "id": "78ca1cf2",
   "metadata": {
    "scrolled": false
   },
   "outputs": [],
   "source": [
    "data_type = pandas.read_excel(\"../TOPO_DATA_DESCRIPTION.xlsx\")"
   ]
  },
  {
   "cell_type": "code",
   "execution_count": 25,
   "id": "b7b88e1d",
   "metadata": {},
   "outputs": [],
   "source": [
    "data = pandas.ExcelFile(\"../TOPO_DATA_DESCRIPTION.xlsx\")"
   ]
  },
  {
   "cell_type": "code",
   "execution_count": 26,
   "id": "4f97202d",
   "metadata": {},
   "outputs": [
    {
     "data": {
      "text/plain": [
       "['TOPOVN',\n",
       " 'VESSEL_DETAILS',\n",
       " 'ITEM',\n",
       " 'ITEM_LOCATION',\n",
       " 'ITEM_REEFER',\n",
       " 'ITEM_OOG',\n",
       " 'ITEM_DANGEROUS',\n",
       " 'PREGATE_TRANSACT',\n",
       " 'DISCHARGE_LIST',\n",
       " 'EDI_ITEM_PRE_ADVICE',\n",
       " 'OPERATION_METHOD',\n",
       " 'YARD_AREA']"
      ]
     },
     "execution_count": 26,
     "metadata": {},
     "output_type": "execute_result"
    }
   ],
   "source": [
    "data.sheet_names"
   ]
  },
  {
   "cell_type": "code",
   "execution_count": 29,
   "id": "67c40e1f",
   "metadata": {},
   "outputs": [],
   "source": [
    "df = data.parse(\"VESSEL_DETAILS\")"
   ]
  },
  {
   "cell_type": "code",
   "execution_count": 32,
   "id": "cb39e636",
   "metadata": {},
   "outputs": [
    {
     "data": {
      "text/html": [
       "<div>\n",
       "<style scoped>\n",
       "    .dataframe tbody tr th:only-of-type {\n",
       "        vertical-align: middle;\n",
       "    }\n",
       "\n",
       "    .dataframe tbody tr th {\n",
       "        vertical-align: top;\n",
       "    }\n",
       "\n",
       "    .dataframe thead th {\n",
       "        text-align: right;\n",
       "    }\n",
       "</style>\n",
       "<table border=\"1\" class=\"dataframe\">\n",
       "  <thead>\n",
       "    <tr style=\"text-align: right;\">\n",
       "      <th></th>\n",
       "      <th>SOURCE</th>\n",
       "      <th>Unnamed: 1</th>\n",
       "      <th>Unnamed: 2</th>\n",
       "      <th>DESCR</th>\n",
       "    </tr>\n",
       "  </thead>\n",
       "  <tbody>\n",
       "    <tr>\n",
       "      <th>0</th>\n",
       "      <td>Column Name</td>\n",
       "      <td>Data type</td>\n",
       "      <td>NaN</td>\n",
       "      <td>NaN</td>\n",
       "    </tr>\n",
       "    <tr>\n",
       "      <th>1</th>\n",
       "      <td>VES_ID</td>\n",
       "      <td>CHAR (12)</td>\n",
       "      <td>DEFAULT ' '</td>\n",
       "      <td>Mã tàu</td>\n",
       "    </tr>\n",
       "    <tr>\n",
       "      <th>2</th>\n",
       "      <td>SITE_ID</td>\n",
       "      <td>CHAR (6)</td>\n",
       "      <td>DEFAULT ' '</td>\n",
       "      <td>Mã cảng</td>\n",
       "    </tr>\n",
       "    <tr>\n",
       "      <th>3</th>\n",
       "      <td>TFC_CODE_E</td>\n",
       "      <td>CHAR (12)</td>\n",
       "      <td>DEFAULT ' '</td>\n",
       "      <td>Mã tàu chuyến xuất</td>\n",
       "    </tr>\n",
       "    <tr>\n",
       "      <th>4</th>\n",
       "      <td>TFC_CODE_I</td>\n",
       "      <td>CHAR (12)</td>\n",
       "      <td>DEFAULT ' '</td>\n",
       "      <td>Mã tàu chuyến nhập</td>\n",
       "    </tr>\n",
       "    <tr>\n",
       "      <th>5</th>\n",
       "      <td>VES_CD</td>\n",
       "      <td>CHAR (4)</td>\n",
       "      <td>DEFAULT ' '</td>\n",
       "      <td>Mã tàu</td>\n",
       "    </tr>\n",
       "    <tr>\n",
       "      <th>6</th>\n",
       "      <td>VES_NAME</td>\n",
       "      <td>CHAR (30)</td>\n",
       "      <td>DEFAULT ' '</td>\n",
       "      <td>Tên tàu</td>\n",
       "    </tr>\n",
       "    <tr>\n",
       "      <th>7</th>\n",
       "      <td>VES_DEP_DATE</td>\n",
       "      <td>DATE</td>\n",
       "      <td>DEFAULT to_date('31/12/1900 23:00','dd/mm/yyyy...</td>\n",
       "      <td>NaN</td>\n",
       "    </tr>\n",
       "    <tr>\n",
       "      <th>8</th>\n",
       "      <td>VES_SERVICE</td>\n",
       "      <td>CHAR (10)</td>\n",
       "      <td>DEFAULT ' '</td>\n",
       "      <td>Tuyến dịch vụ</td>\n",
       "    </tr>\n",
       "    <tr>\n",
       "      <th>9</th>\n",
       "      <td>VES_STATUS</td>\n",
       "      <td>CHAR (1)</td>\n",
       "      <td>DEFAULT ' '</td>\n",
       "      <td>NaN</td>\n",
       "    </tr>\n",
       "    <tr>\n",
       "      <th>10</th>\n",
       "      <td>VES_TYPE</td>\n",
       "      <td>CHAR (1)</td>\n",
       "      <td>DEFAULT ' '</td>\n",
       "      <td>F: Feader = tàu con; B: Barge = Xà Lan; M: Mot...</td>\n",
       "    </tr>\n",
       "    <tr>\n",
       "      <th>11</th>\n",
       "      <td>CALL_SIGN</td>\n",
       "      <td>CHAR (20)</td>\n",
       "      <td>DEFAULT ' '</td>\n",
       "      <td>biển số tàu</td>\n",
       "    </tr>\n",
       "    <tr>\n",
       "      <th>12</th>\n",
       "      <td>IN_VOYAGE</td>\n",
       "      <td>CHAR (12)</td>\n",
       "      <td>DEFAULT ' '</td>\n",
       "      <td>Mã Chuyến tàu nhập</td>\n",
       "    </tr>\n",
       "    <tr>\n",
       "      <th>13</th>\n",
       "      <td>OUT_VOYAGE</td>\n",
       "      <td>CHAR (12)</td>\n",
       "      <td>DEFAULT ' '</td>\n",
       "      <td>Mã chuyến tàu xuất</td>\n",
       "    </tr>\n",
       "    <tr>\n",
       "      <th>14</th>\n",
       "      <td>LINE_OPER</td>\n",
       "      <td>CHAR (7)</td>\n",
       "      <td>DEFAULT ' '</td>\n",
       "      <td>xác định Chủ tàu (Dùng trước 2018)</td>\n",
       "    </tr>\n",
       "    <tr>\n",
       "      <th>15</th>\n",
       "      <td>AGENT</td>\n",
       "      <td>CHAR (3)</td>\n",
       "      <td>DEFAULT ' '</td>\n",
       "      <td>xác định Chủ tàu (Dùng sau 2018)</td>\n",
       "    </tr>\n",
       "    <tr>\n",
       "      <th>16</th>\n",
       "      <td>OWNER</td>\n",
       "      <td>CHAR (6)</td>\n",
       "      <td>DEFAULT ' '</td>\n",
       "      <td>NaN</td>\n",
       "    </tr>\n",
       "    <tr>\n",
       "      <th>17</th>\n",
       "      <td>BERTH_NO</td>\n",
       "      <td>CHAR (5)</td>\n",
       "      <td>DEFAULT ' '</td>\n",
       "      <td>Vị trí cập</td>\n",
       "    </tr>\n",
       "    <tr>\n",
       "      <th>18</th>\n",
       "      <td>ACT_ANCHORAGE_TS</td>\n",
       "      <td>DATE</td>\n",
       "      <td>DEFAULT to_date('31/12/1900 23:00','dd/mm/yyyy...</td>\n",
       "      <td>NaN</td>\n",
       "    </tr>\n",
       "    <tr>\n",
       "      <th>19</th>\n",
       "      <td>ACT_BERTH_TS</td>\n",
       "      <td>DATE</td>\n",
       "      <td>DEFAULT to_date('31/12/1900 23:00','dd/mm/yyyy...</td>\n",
       "      <td>Thời gian cập cảng thực tế</td>\n",
       "    </tr>\n",
       "    <tr>\n",
       "      <th>20</th>\n",
       "      <td>ACT_DEP_TS</td>\n",
       "      <td>DATE</td>\n",
       "      <td>DEFAULT to_date('31/12/1900 23:00','dd/mm/yyyy...</td>\n",
       "      <td>Thời gian rời cảng thực tế</td>\n",
       "    </tr>\n",
       "    <tr>\n",
       "      <th>21</th>\n",
       "      <td>ACT_END_WORK_TS</td>\n",
       "      <td>DATE</td>\n",
       "      <td>DEFAULT to_date('31/12/1900 23:00','dd/mm/yyyy...</td>\n",
       "      <td>NaN</td>\n",
       "    </tr>\n",
       "    <tr>\n",
       "      <th>22</th>\n",
       "      <td>ACT_PILOT_TS</td>\n",
       "      <td>DATE</td>\n",
       "      <td>DEFAULT to_date('31/12/1900 23:00','dd/mm/yyyy...</td>\n",
       "      <td>NaN</td>\n",
       "    </tr>\n",
       "    <tr>\n",
       "      <th>23</th>\n",
       "      <td>ACT_START_WORK_TS</td>\n",
       "      <td>DATE</td>\n",
       "      <td>DEFAULT to_date('31/12/1900 23:00','dd/mm/yyyy...</td>\n",
       "      <td>NaN</td>\n",
       "    </tr>\n",
       "    <tr>\n",
       "      <th>24</th>\n",
       "      <td>OCEAN_INTERISLAND</td>\n",
       "      <td>CHAR (1)</td>\n",
       "      <td>DEFAULT ' '</td>\n",
       "      <td>Xác định tàu đi tuyến Nội địa (D) hay Quốc tế (I)</td>\n",
       "    </tr>\n",
       "    <tr>\n",
       "      <th>25</th>\n",
       "      <td>ALL_LINES</td>\n",
       "      <td>CHAR (1)</td>\n",
       "      <td>DEFAULT ' '</td>\n",
       "      <td>Mã cầu cảng</td>\n",
       "    </tr>\n",
       "    <tr>\n",
       "      <th>26</th>\n",
       "      <td>VES_LENGTH</td>\n",
       "      <td>NUMBER (9,3)</td>\n",
       "      <td>DEFAULT 0</td>\n",
       "      <td>NaN</td>\n",
       "    </tr>\n",
       "    <tr>\n",
       "      <th>27</th>\n",
       "      <td>AVAILABLE_TS</td>\n",
       "      <td>DATE</td>\n",
       "      <td>DEFAULT to_date('31/12/1900 23:00','dd/mm/yyyy...</td>\n",
       "      <td>NaN</td>\n",
       "    </tr>\n",
       "    <tr>\n",
       "      <th>28</th>\n",
       "      <td>BERTH_FR_METRE</td>\n",
       "      <td>NUMBER (4)</td>\n",
       "      <td>DEFAULT 0</td>\n",
       "      <td>NaN</td>\n",
       "    </tr>\n",
       "    <tr>\n",
       "      <th>29</th>\n",
       "      <td>BERTH_GRID</td>\n",
       "      <td>CHAR (5)</td>\n",
       "      <td>DEFAULT ' '</td>\n",
       "      <td>NaN</td>\n",
       "    </tr>\n",
       "    <tr>\n",
       "      <th>30</th>\n",
       "      <td>BERTH_TO_METRE</td>\n",
       "      <td>NUMBER (4)</td>\n",
       "      <td>DEFAULT 0</td>\n",
       "      <td>NaN</td>\n",
       "    </tr>\n",
       "    <tr>\n",
       "      <th>31</th>\n",
       "      <td>BILLING_COMPLETE</td>\n",
       "      <td>CHAR (1)</td>\n",
       "      <td>DEFAULT ' '</td>\n",
       "      <td>NaN</td>\n",
       "    </tr>\n",
       "    <tr>\n",
       "      <th>32</th>\n",
       "      <td>BTOA_SIDE</td>\n",
       "      <td>CHAR (1)</td>\n",
       "      <td>DEFAULT ' '</td>\n",
       "      <td>NaN</td>\n",
       "    </tr>\n",
       "    <tr>\n",
       "      <th>33</th>\n",
       "      <td>CLEARANCE_AREA</td>\n",
       "      <td>CHAR (5)</td>\n",
       "      <td>DEFAULT ' '</td>\n",
       "      <td>NaN</td>\n",
       "    </tr>\n",
       "    <tr>\n",
       "      <th>34</th>\n",
       "      <td>DEST_PORT</td>\n",
       "      <td>CHAR (6)</td>\n",
       "      <td>DEFAULT ' '</td>\n",
       "      <td>NaN</td>\n",
       "    </tr>\n",
       "    <tr>\n",
       "      <th>35</th>\n",
       "      <td>DOCO_CUTOFF_TS</td>\n",
       "      <td>DATE</td>\n",
       "      <td>DEFAULT to_date('31/12/1900 23:00','dd/mm/yyyy...</td>\n",
       "      <td>NaN</td>\n",
       "    </tr>\n",
       "    <tr>\n",
       "      <th>36</th>\n",
       "      <td>EFFECTIVE_TIME</td>\n",
       "      <td>NUMBER (9,3)</td>\n",
       "      <td>DEFAULT 0</td>\n",
       "      <td>NaN</td>\n",
       "    </tr>\n",
       "    <tr>\n",
       "      <th>37</th>\n",
       "      <td>EST_ANCHORAGE_TS</td>\n",
       "      <td>DATE</td>\n",
       "      <td>DEFAULT to_date('31/12/1900 23:00','dd/mm/yyyy...</td>\n",
       "      <td>NaN</td>\n",
       "    </tr>\n",
       "    <tr>\n",
       "      <th>38</th>\n",
       "      <td>EST_BERTH_TS</td>\n",
       "      <td>DATE</td>\n",
       "      <td>DEFAULT to_date('31/12/1900 23:00','dd/mm/yyyy...</td>\n",
       "      <td>Thời gian cập dự kiến</td>\n",
       "    </tr>\n",
       "    <tr>\n",
       "      <th>39</th>\n",
       "      <td>EST_DEP_TS</td>\n",
       "      <td>DATE</td>\n",
       "      <td>DEFAULT to_date('31/12/1900 23:00','dd/mm/yyyy...</td>\n",
       "      <td>Thời gian rời dự kiến</td>\n",
       "    </tr>\n",
       "  </tbody>\n",
       "</table>\n",
       "</div>"
      ],
      "text/plain": [
       "               SOURCE    Unnamed: 1  \\\n",
       "0         Column Name     Data type   \n",
       "1              VES_ID     CHAR (12)   \n",
       "2             SITE_ID      CHAR (6)   \n",
       "3          TFC_CODE_E     CHAR (12)   \n",
       "4          TFC_CODE_I     CHAR (12)   \n",
       "5              VES_CD      CHAR (4)   \n",
       "6            VES_NAME     CHAR (30)   \n",
       "7        VES_DEP_DATE          DATE   \n",
       "8         VES_SERVICE     CHAR (10)   \n",
       "9          VES_STATUS      CHAR (1)   \n",
       "10           VES_TYPE      CHAR (1)   \n",
       "11          CALL_SIGN     CHAR (20)   \n",
       "12          IN_VOYAGE     CHAR (12)   \n",
       "13         OUT_VOYAGE     CHAR (12)   \n",
       "14          LINE_OPER      CHAR (7)   \n",
       "15              AGENT      CHAR (3)   \n",
       "16              OWNER      CHAR (6)   \n",
       "17           BERTH_NO      CHAR (5)   \n",
       "18   ACT_ANCHORAGE_TS          DATE   \n",
       "19       ACT_BERTH_TS          DATE   \n",
       "20         ACT_DEP_TS          DATE   \n",
       "21    ACT_END_WORK_TS          DATE   \n",
       "22       ACT_PILOT_TS          DATE   \n",
       "23  ACT_START_WORK_TS          DATE   \n",
       "24  OCEAN_INTERISLAND      CHAR (1)   \n",
       "25          ALL_LINES      CHAR (1)   \n",
       "26         VES_LENGTH  NUMBER (9,3)   \n",
       "27       AVAILABLE_TS          DATE   \n",
       "28     BERTH_FR_METRE    NUMBER (4)   \n",
       "29         BERTH_GRID      CHAR (5)   \n",
       "30     BERTH_TO_METRE    NUMBER (4)   \n",
       "31   BILLING_COMPLETE      CHAR (1)   \n",
       "32          BTOA_SIDE      CHAR (1)   \n",
       "33     CLEARANCE_AREA      CHAR (5)   \n",
       "34          DEST_PORT      CHAR (6)   \n",
       "35     DOCO_CUTOFF_TS          DATE   \n",
       "36     EFFECTIVE_TIME  NUMBER (9,3)   \n",
       "37   EST_ANCHORAGE_TS          DATE   \n",
       "38       EST_BERTH_TS          DATE   \n",
       "39         EST_DEP_TS          DATE   \n",
       "\n",
       "                                           Unnamed: 2  \\\n",
       "0                                                 NaN   \n",
       "1                                         DEFAULT ' '   \n",
       "2                                         DEFAULT ' '   \n",
       "3                                         DEFAULT ' '   \n",
       "4                                         DEFAULT ' '   \n",
       "5                                         DEFAULT ' '   \n",
       "6                                         DEFAULT ' '   \n",
       "7   DEFAULT to_date('31/12/1900 23:00','dd/mm/yyyy...   \n",
       "8                                         DEFAULT ' '   \n",
       "9                                         DEFAULT ' '   \n",
       "10                                        DEFAULT ' '   \n",
       "11                                        DEFAULT ' '   \n",
       "12                                        DEFAULT ' '   \n",
       "13                                        DEFAULT ' '   \n",
       "14                                        DEFAULT ' '   \n",
       "15                                        DEFAULT ' '   \n",
       "16                                        DEFAULT ' '   \n",
       "17                                        DEFAULT ' '   \n",
       "18  DEFAULT to_date('31/12/1900 23:00','dd/mm/yyyy...   \n",
       "19  DEFAULT to_date('31/12/1900 23:00','dd/mm/yyyy...   \n",
       "20  DEFAULT to_date('31/12/1900 23:00','dd/mm/yyyy...   \n",
       "21  DEFAULT to_date('31/12/1900 23:00','dd/mm/yyyy...   \n",
       "22  DEFAULT to_date('31/12/1900 23:00','dd/mm/yyyy...   \n",
       "23  DEFAULT to_date('31/12/1900 23:00','dd/mm/yyyy...   \n",
       "24                                        DEFAULT ' '   \n",
       "25                                        DEFAULT ' '   \n",
       "26                                          DEFAULT 0   \n",
       "27  DEFAULT to_date('31/12/1900 23:00','dd/mm/yyyy...   \n",
       "28                                          DEFAULT 0   \n",
       "29                                        DEFAULT ' '   \n",
       "30                                          DEFAULT 0   \n",
       "31                                        DEFAULT ' '   \n",
       "32                                        DEFAULT ' '   \n",
       "33                                        DEFAULT ' '   \n",
       "34                                        DEFAULT ' '   \n",
       "35  DEFAULT to_date('31/12/1900 23:00','dd/mm/yyyy...   \n",
       "36                                          DEFAULT 0   \n",
       "37  DEFAULT to_date('31/12/1900 23:00','dd/mm/yyyy...   \n",
       "38  DEFAULT to_date('31/12/1900 23:00','dd/mm/yyyy...   \n",
       "39  DEFAULT to_date('31/12/1900 23:00','dd/mm/yyyy...   \n",
       "\n",
       "                                                DESCR  \n",
       "0                                                 NaN  \n",
       "1                                              Mã tàu  \n",
       "2                                             Mã cảng  \n",
       "3                                  Mã tàu chuyến xuất  \n",
       "4                                  Mã tàu chuyến nhập  \n",
       "5                                              Mã tàu  \n",
       "6                                             Tên tàu  \n",
       "7                                                 NaN  \n",
       "8                                       Tuyến dịch vụ  \n",
       "9                                                 NaN  \n",
       "10  F: Feader = tàu con; B: Barge = Xà Lan; M: Mot...  \n",
       "11                                        biển số tàu  \n",
       "12                                 Mã Chuyến tàu nhập  \n",
       "13                                 Mã chuyến tàu xuất  \n",
       "14                 xác định Chủ tàu (Dùng trước 2018)  \n",
       "15                   xác định Chủ tàu (Dùng sau 2018)  \n",
       "16                                                NaN  \n",
       "17                                         Vị trí cập  \n",
       "18                                                NaN  \n",
       "19                         Thời gian cập cảng thực tế  \n",
       "20                         Thời gian rời cảng thực tế  \n",
       "21                                                NaN  \n",
       "22                                                NaN  \n",
       "23                                                NaN  \n",
       "24  Xác định tàu đi tuyến Nội địa (D) hay Quốc tế (I)  \n",
       "25                                        Mã cầu cảng  \n",
       "26                                                NaN  \n",
       "27                                                NaN  \n",
       "28                                                NaN  \n",
       "29                                                NaN  \n",
       "30                                                NaN  \n",
       "31                                                NaN  \n",
       "32                                                NaN  \n",
       "33                                                NaN  \n",
       "34                                                NaN  \n",
       "35                                                NaN  \n",
       "36                                                NaN  \n",
       "37                                                NaN  \n",
       "38                              Thời gian cập dự kiến  \n",
       "39                              Thời gian rời dự kiến  "
      ]
     },
     "execution_count": 32,
     "metadata": {},
     "output_type": "execute_result"
    }
   ],
   "source": []
  },
  {
   "cell_type": "code",
   "execution_count": null,
   "id": "c403d657",
   "metadata": {},
   "outputs": [],
   "source": []
  }
 ],
 "metadata": {
  "kernelspec": {
   "display_name": "Python 3 (ipykernel)",
   "language": "python",
   "name": "python3"
  },
  "language_info": {
   "codemirror_mode": {
    "name": "ipython",
    "version": 3
   },
   "file_extension": ".py",
   "mimetype": "text/x-python",
   "name": "python",
   "nbconvert_exporter": "python",
   "pygments_lexer": "ipython3",
   "version": "3.9.10"
  }
 },
 "nbformat": 4,
 "nbformat_minor": 5
}
