{
 "cells": [
  {
   "cell_type": "code",
   "execution_count": 1,
   "id": "8d63a719",
   "metadata": {},
   "outputs": [],
   "source": [
    "import pandas, re, os, datetime"
   ]
  },
  {
   "cell_type": "code",
   "execution_count": 2,
   "id": "7454167f",
   "metadata": {},
   "outputs": [],
   "source": [
    "path_TOPOVN = \"../../Data_SNP_Intern/TOPO_DATA_DESCRIPTION.xlsx\"\n",
    "file = pandas.ExcelFile(path_TOPOVN)\n",
    "sheets = file.sheet_names\n",
    "sheets.remove('TOPOVN')"
   ]
  },
  {
   "cell_type": "code",
   "execution_count": 131,
   "id": "d19d1d67",
   "metadata": {},
   "outputs": [],
   "source": [
    "import pyodbc\n",
    "str_connection = 'Driver={SQL Server};Server=%s;Database=%s;Trusted_Connection=yes;'%('localhost', 'ThucTapSNP')\n",
    "connection = pyodbc.connect(str_connection)\n",
    "cursor = connection.cursor()"
   ]
  },
  {
   "cell_type": "code",
   "execution_count": 132,
   "id": "24e39608",
   "metadata": {},
   "outputs": [],
   "source": [
    "def CleanText(text):\n",
    "    text = text.replace('\\n', '\\r\\n')\n",
    "    text = text.replace('_x000D_', '')\n",
    "    text = text.replace('\"', '')\n",
    "    return text\n",
    "def GetColumnName(lst):\n",
    "    patt_col = 'column(.)*'\n",
    "    patt_data = 'data type'\n",
    "    col_columnName = list(filter(lambda x: re.match(patt_col, x.lower()), lst))\n",
    "    col_datatype = list(filter(lambda x: re.match(patt_data, x.lower()), lst))\n",
    "    return [col_columnName.pop(0), col_datatype.pop(0)]\n",
    "def ConvertToSQLDatatype(text):\n",
    "    text = text.lower().replace(' ', '')\n",
    "    dct = {\n",
    "      \"number\\([0-9]+,[0-9]+\\)\": [\"number\", \"numeric\"],\n",
    "      \"date\": [\"date\", \"datetime\"],\n",
    "      \"byte.$\": [\"byte\", \"\"],\n",
    "      \"^number\\([0-9]\\)$\": [\"\", \"int\"],\n",
    "      \"^varchar2\": [\"varchar2\", \"varchar\"]\n",
    "    }\n",
    "    for key in dct.keys():\n",
    "        matched = re.findall(key, text)\n",
    "        if len(matched) > 0:\n",
    "            replaced, replace_with = dct[key]\n",
    "            if replaced == '':\n",
    "                text = replace_with\n",
    "            else:\n",
    "                text = text.replace(replaced, replace_with)\n",
    "    return text\n",
    "\n",
    "# def ConvertData(df, cols, lst):\n",
    "#     for i in range(len(lst)):\n",
    "#         try:\n",
    "#             if lst[i] == 'datetime':\n",
    "#                 for row in range(len(df)):\n",
    "#                     date = df.loc[row, cols[i]]\n",
    "#                     try:\n",
    "#                         date = pandas.to_datetime(date)\n",
    "#                     except pandas.errors.OutOfBoundsDatetime as error:\n",
    "#                         date = datetime.datetime(1900, 12, 31, 23)\n",
    "#                     except pandas.errors.ParserError as parser_error:\n",
    "#                         df = df.drop(df.index[row])\n",
    "#                         df = df.reset_index()\n",
    "#                     df.loc[row, cols[i]] = date\n",
    "#                 df = df.astype({cols[i]:\"datetime64\"})\n",
    "# #             elif lst[i] == \"int\":\n",
    "# #                 df[cols[i]] = df[cols[i]].apply(int)\n",
    "#             elif 'numeric' in lst[i]:\n",
    "#                 df[cols[i]] = df[cols[i]].apply(float)\n",
    "#             elif 'char' in lst[i]:\n",
    "#                 df[cols[i]] = df[cols[i]].apply(str)\n",
    "# #                 df[cols[i]] = df[cols[i]].apply(lambda x: \"'%s'\"%(x))\n",
    "#         except ValueError as value_error:\n",
    "#             raise ValueError(' - '.join([cols[i], lst[i],\"datetime\"]))\n",
    "#         except TypeError as type_error:\n",
    "#             raise ValueError(' - '.join([cols[i], lst[i],\"datetime\"]))\n",
    "#     return df\n",
    "def ConvertData(data, col_columns, col_datatype):\n",
    "    for i in range(len(col_datatype)):\n",
    "        if col_datatype[i] == 'datetime':\n",
    "            row = 0\n",
    "            while row < len(data):\n",
    "                try:\n",
    "                    date = data.loc[row, col_columns[i]]\n",
    "                    date = pandas.to_datetime(date)\n",
    "                    data.loc[row, col_columns[i]] = date\n",
    "                except pandas.errors.OutOfBoundsDatetime as error_outofdatetime:\n",
    "                    data.loc[row, col_columns[i]] = datetime.datetime(1900, 12, 31, 23)\n",
    "                # except pandas.errors.ParserError as error_parses:\n",
    "                except:\n",
    "                    data = data.drop(data.index[row])\n",
    "                    data = data.reset_index()\n",
    "                row += 1\n",
    "            data = data.astype({col_columns[i] : 'datetime64'})\n",
    "        elif 'char' in col_datatype[i]:\n",
    "            data[col_columns[i]] = data[col_columns[i]].apply(CleanText)\n",
    "        elif 'numeric' in col_datatype[i]:\n",
    "            data[col_columns[i]] = data[col_columns[i]].apply(float)\n",
    "    return data"
   ]
  },
  {
   "cell_type": "code",
   "execution_count": 134,
   "id": "61060606",
   "metadata": {},
   "outputs": [
    {
     "name": "stdout",
     "output_type": "stream",
     "text": [
      "VESSEL_DETAILS  created\n",
      "VESSEL_DETAILS  inserted\n",
      "ITEM  created\n",
      "ITEM  inserted\n",
      "ITEM_LOCATION  created\n",
      "ITEM_LOCATION  inserted\n",
      "ITEM_REEFER  created\n",
      "ITEM_REEFER  inserted\n",
      "ITEM_OOG  created\n",
      "ITEM_OOG  inserted\n",
      "ITEM_DANGEROUS  created\n",
      "ITEM_DANGEROUS  inserted\n",
      "PREGATE_TRANSACT  created\n",
      "PREGATE_TRANSACT  inserted\n",
      "DISCHARGE_LIST  created\n",
      "DISCHARGE_LIST  inserted\n",
      "EDI_ITEM_PRE_ADVICE  created\n",
      "EDI_ITEM_PRE_ADVICE  inserted\n",
      "OPERATION_METHOD  created\n",
      "OPERATION_METHOD  inserted\n",
      "YARD_AREA  created\n",
      "YARD_AREA  inserted\n"
     ]
    }
   ],
   "source": [
    "for name in sheets:\n",
    "    data = pandas.read_excel(file, sheet_name=name, header=1)\n",
    "    columns = GetColumnName(list(data.columns))\n",
    "\n",
    "    data = data.dropna(subset=[columns[0]])\n",
    "    col_columns = [name.replace(' ', '_') for name in data[columns[0]].tolist()]\n",
    "    col_datatype = [ConvertToSQLDatatype(i) for i in data[columns[1]].tolist()]\n",
    "    \n",
    "    data = pandas.read_excel(path_data + dct_fileAndData[name])\n",
    "    i = 0\n",
    "    while i < len(col_columns):\n",
    "        if col_columns[i] not in list(data.columns):\n",
    "            col_columns.remove(col_columns[i])\n",
    "            col_datatype.remove(col_datatype[i])\n",
    "        else:\n",
    "            i += 1\n",
    "        \n",
    "    data = data.fillna('null')\n",
    "    data, col_columns, col_datatype = CheckDatatype(data, col_columns, col_datatype)\n",
    "\n",
    "    data = ConvertData(data, col_columns, col_datatype)\n",
    "    data = data[col_columns]\n",
    "    \n",
    "    sql_tablebody = ''\n",
    "    for i in range(len(col_columns)):\n",
    "        sql_tablebody += col_columns[i] + ' ' + col_datatype[i] + ',\\n'\n",
    "    command = 'create table {name} ({body})\\n'.format(name=name, body=sql_tablebody)\n",
    "    cursor.execute(command)\n",
    "    connection.commit()\n",
    "    print(name, \" created\")\n",
    "    \n",
    "    command = 'insert into {table}({columns}) values ({values})'\n",
    "    str_columns = ','.join(col_columns)\n",
    "    for i in range(len(data)):\n",
    "        row = ConvertListToSQLInsert(data.loc[i].tolist(), col_datatype)\n",
    "#         print(command.format(\n",
    "#             table = name,\n",
    "#             columns = str_columns,\n",
    "#             values = ','.join(row)\n",
    "#         ))\n",
    "        cursor.execute(command.format(\n",
    "            table = name,\n",
    "            columns = str_columns,\n",
    "            values = ','.join(row)\n",
    "        ))\n",
    "#         break\n",
    "    connection.commit()\n",
    "#     break\n",
    "    print(name, \" inserted\")"
   ]
  },
  {
   "cell_type": "code",
   "execution_count": 32,
   "id": "c9baa00f",
   "metadata": {},
   "outputs": [],
   "source": [
    "path_data = \"../../Data_SNP_Intern/\"\n",
    "lstData = os.listdir(path_data)\n",
    "lstData.remove(\"TOPO_DATA_DESCRIPTION.xlsx\")"
   ]
  },
  {
   "cell_type": "code",
   "execution_count": 90,
   "id": "e3cf9936",
   "metadata": {},
   "outputs": [
    {
     "data": {
      "text/plain": [
       "0        \"SHIPPERS LOAD, COUNT & SEAL\"\\n\"SAID TO CONTAI...\n",
       "1        TOTAL:563 CARTONS_x000D_\\nELECTRIC GRILL BN03#...\n",
       "2        1X20 & 2X40 CONTAINER STC: 80 PALLETS (2400 BA...\n",
       "3        TOTAL:660 PALLETS_x000D_\\nCOMMODITY: PHOTOVOLT...\n",
       "4                                    STAINLESS STEEL COILS\n",
       "                               ...                        \n",
       "30744                            KNIT FABRIC & ACCESSORIES\n",
       "30745    TOTAL:838 ROLLS_x000D_\\nUPHOLSTERY FABRIC_x000...\n",
       "30746    TOTAL:162 ROLLS_x000D_\\nEVA_x000D_\\nHS CODE:39...\n",
       "30747                                 FABRICS NOS TEXTILES\n",
       "30748                        DAIRY PRODUCTS NON-FROZEN NOS\n",
       "Name: COMMODITY, Length: 30749, dtype: object"
      ]
     },
     "execution_count": 90,
     "metadata": {},
     "output_type": "execute_result"
    }
   ],
   "source": [
    "data['COMMODITY'].replace('\"', '')"
   ]
  },
  {
   "cell_type": "code",
   "execution_count": 33,
   "id": "784f2e81",
   "metadata": {},
   "outputs": [],
   "source": [
    "dct_fileAndData = dict.fromkeys(sheets)"
   ]
  },
  {
   "cell_type": "code",
   "execution_count": 34,
   "id": "f5ffd9fd",
   "metadata": {},
   "outputs": [],
   "source": [
    "for key in dct_fileAndData.keys():\n",
    "    for i in range(len(lstData)):\n",
    "        if (key + \".xlsx\") in lstData[i]:\n",
    "            dct_fileAndData[key] = lstData[i]"
   ]
  },
  {
   "cell_type": "code",
   "execution_count": 35,
   "id": "868da420",
   "metadata": {},
   "outputs": [
    {
     "data": {
      "text/plain": [
       "{'VESSEL_DETAILS': '1_VESSEL_DETAILS.xlsx',\n",
       " 'ITEM': '2_ITEM.xlsx',\n",
       " 'ITEM_LOCATION': '3_ITEM_LOCATION.xlsx',\n",
       " 'ITEM_REEFER': '4_ITEM_REEFER.xlsx',\n",
       " 'ITEM_OOG': '5_ITEM_OOG.xlsx',\n",
       " 'ITEM_DANGEROUS': '6_ITEM_DANGEROUS.xlsx',\n",
       " 'PREGATE_TRANSACT': '7_PREGATE_TRANSACT.xlsx',\n",
       " 'DISCHARGE_LIST': '8_DISCHARGE_LIST.xlsx',\n",
       " 'EDI_ITEM_PRE_ADVICE': '9_EDI_ITEM_PRE_ADVICE.xlsx',\n",
       " 'OPERATION_METHOD': '10_OPERATION_METHOD.xlsx',\n",
       " 'YARD_AREA': '11_YARD_AREA.xlsx'}"
      ]
     },
     "execution_count": 35,
     "metadata": {},
     "output_type": "execute_result"
    }
   ],
   "source": [
    "dct_fileAndData"
   ]
  },
  {
   "cell_type": "code",
   "execution_count": 18,
   "id": "64afbfa0",
   "metadata": {},
   "outputs": [],
   "source": [
    "data = pandas.read_excel(\"../../Data_SNP_Intern/1_VESSEL_DETAILS.xlsx\")"
   ]
  },
  {
   "cell_type": "code",
   "execution_count": 64,
   "id": "2136ff88",
   "metadata": {},
   "outputs": [],
   "source": [
    "command = 'insert into {table}({columns}) values ({values})'"
   ]
  },
  {
   "cell_type": "code",
   "execution_count": 342,
   "id": "3ebd3301",
   "metadata": {},
   "outputs": [
    {
     "data": {
      "text/plain": [
       "['VESSEL_DETAILS',\n",
       " 'ITEM',\n",
       " 'ITEM_LOCATION',\n",
       " 'ITEM_REEFER',\n",
       " 'ITEM_OOG',\n",
       " 'ITEM_DANGEROUS',\n",
       " 'PREGATE_TRANSACT',\n",
       " 'DISCHARGE_LIST',\n",
       " 'EDI_ITEM_PRE_ADVICE',\n",
       " 'OPERATION_METHOD',\n",
       " 'YARD_AREA']"
      ]
     },
     "execution_count": 342,
     "metadata": {},
     "output_type": "execute_result"
    }
   ],
   "source": [
    "sheets"
   ]
  },
  {
   "cell_type": "code",
   "execution_count": 68,
   "id": "1949398b",
   "metadata": {},
   "outputs": [
    {
     "ename": "ValueError",
     "evalue": "time data '9220/10/11 20:12:00' does not match format '%y/%m/%d %H:%M:%S'",
     "output_type": "error",
     "traceback": [
      "\u001b[1;31m---------------------------------------------------------------------------\u001b[0m",
      "\u001b[1;31mValueError\u001b[0m                                Traceback (most recent call last)",
      "Input \u001b[1;32mIn [68]\u001b[0m, in \u001b[0;36m<cell line: 2>\u001b[1;34m()\u001b[0m\n\u001b[0;32m      1\u001b[0m \u001b[38;5;28;01mimport\u001b[39;00m \u001b[38;5;21;01mdatetime\u001b[39;00m\n\u001b[1;32m----> 2\u001b[0m \u001b[43mdatetime\u001b[49m\u001b[38;5;241;43m.\u001b[39;49m\u001b[43mdatetime\u001b[49m\u001b[38;5;241;43m.\u001b[39;49m\u001b[43mstrptime\u001b[49m\u001b[43m(\u001b[49m\u001b[38;5;124;43m\"\u001b[39;49m\u001b[38;5;124;43m9220/10/11 20:12:00\u001b[39;49m\u001b[38;5;124;43m\"\u001b[39;49m\u001b[43m,\u001b[49m\u001b[43m \u001b[49m\u001b[38;5;124;43m\"\u001b[39;49m\u001b[38;5;124;43m%\u001b[39;49m\u001b[38;5;124;43my/\u001b[39;49m\u001b[38;5;124;43m%\u001b[39;49m\u001b[38;5;124;43mm/\u001b[39;49m\u001b[38;5;132;43;01m%d\u001b[39;49;00m\u001b[38;5;124;43m \u001b[39;49m\u001b[38;5;124;43m%\u001b[39;49m\u001b[38;5;124;43mH:\u001b[39;49m\u001b[38;5;124;43m%\u001b[39;49m\u001b[38;5;124;43mM:\u001b[39;49m\u001b[38;5;124;43m%\u001b[39;49m\u001b[38;5;124;43mS\u001b[39;49m\u001b[38;5;124;43m\"\u001b[39;49m\u001b[43m)\u001b[49m\n",
      "File \u001b[1;32mC:\\Program Files\\Python39\\lib\\_strptime.py:568\u001b[0m, in \u001b[0;36m_strptime_datetime\u001b[1;34m(cls, data_string, format)\u001b[0m\n\u001b[0;32m    565\u001b[0m \u001b[38;5;28;01mdef\u001b[39;00m \u001b[38;5;21m_strptime_datetime\u001b[39m(\u001b[38;5;28mcls\u001b[39m, data_string, \u001b[38;5;28mformat\u001b[39m\u001b[38;5;241m=\u001b[39m\u001b[38;5;124m\"\u001b[39m\u001b[38;5;132;01m%a\u001b[39;00m\u001b[38;5;124m \u001b[39m\u001b[38;5;124m%\u001b[39m\u001b[38;5;124mb \u001b[39m\u001b[38;5;132;01m%d\u001b[39;00m\u001b[38;5;124m \u001b[39m\u001b[38;5;124m%\u001b[39m\u001b[38;5;124mH:\u001b[39m\u001b[38;5;124m%\u001b[39m\u001b[38;5;124mM:\u001b[39m\u001b[38;5;124m%\u001b[39m\u001b[38;5;124mS \u001b[39m\u001b[38;5;124m%\u001b[39m\u001b[38;5;124mY\u001b[39m\u001b[38;5;124m\"\u001b[39m):\n\u001b[0;32m    566\u001b[0m     \u001b[38;5;124;03m\"\"\"Return a class cls instance based on the input string and the\u001b[39;00m\n\u001b[0;32m    567\u001b[0m \u001b[38;5;124;03m    format string.\"\"\"\u001b[39;00m\n\u001b[1;32m--> 568\u001b[0m     tt, fraction, gmtoff_fraction \u001b[38;5;241m=\u001b[39m \u001b[43m_strptime\u001b[49m\u001b[43m(\u001b[49m\u001b[43mdata_string\u001b[49m\u001b[43m,\u001b[49m\u001b[43m \u001b[49m\u001b[38;5;28;43mformat\u001b[39;49m\u001b[43m)\u001b[49m\n\u001b[0;32m    569\u001b[0m     tzname, gmtoff \u001b[38;5;241m=\u001b[39m tt[\u001b[38;5;241m-\u001b[39m\u001b[38;5;241m2\u001b[39m:]\n\u001b[0;32m    570\u001b[0m     args \u001b[38;5;241m=\u001b[39m tt[:\u001b[38;5;241m6\u001b[39m] \u001b[38;5;241m+\u001b[39m (fraction,)\n",
      "File \u001b[1;32mC:\\Program Files\\Python39\\lib\\_strptime.py:349\u001b[0m, in \u001b[0;36m_strptime\u001b[1;34m(data_string, format)\u001b[0m\n\u001b[0;32m    347\u001b[0m found \u001b[38;5;241m=\u001b[39m format_regex\u001b[38;5;241m.\u001b[39mmatch(data_string)\n\u001b[0;32m    348\u001b[0m \u001b[38;5;28;01mif\u001b[39;00m \u001b[38;5;129;01mnot\u001b[39;00m found:\n\u001b[1;32m--> 349\u001b[0m     \u001b[38;5;28;01mraise\u001b[39;00m \u001b[38;5;167;01mValueError\u001b[39;00m(\u001b[38;5;124m\"\u001b[39m\u001b[38;5;124mtime data \u001b[39m\u001b[38;5;132;01m%r\u001b[39;00m\u001b[38;5;124m does not match format \u001b[39m\u001b[38;5;132;01m%r\u001b[39;00m\u001b[38;5;124m\"\u001b[39m \u001b[38;5;241m%\u001b[39m\n\u001b[0;32m    350\u001b[0m                      (data_string, \u001b[38;5;28mformat\u001b[39m))\n\u001b[0;32m    351\u001b[0m \u001b[38;5;28;01mif\u001b[39;00m \u001b[38;5;28mlen\u001b[39m(data_string) \u001b[38;5;241m!=\u001b[39m found\u001b[38;5;241m.\u001b[39mend():\n\u001b[0;32m    352\u001b[0m     \u001b[38;5;28;01mraise\u001b[39;00m \u001b[38;5;167;01mValueError\u001b[39;00m(\u001b[38;5;124m\"\u001b[39m\u001b[38;5;124munconverted data remains: \u001b[39m\u001b[38;5;132;01m%s\u001b[39;00m\u001b[38;5;124m\"\u001b[39m \u001b[38;5;241m%\u001b[39m\n\u001b[0;32m    353\u001b[0m                       data_string[found\u001b[38;5;241m.\u001b[39mend():])\n",
      "\u001b[1;31mValueError\u001b[0m: time data '9220/10/11 20:12:00' does not match format '%y/%m/%d %H:%M:%S'"
     ]
    }
   ],
   "source": [
    "import datetime\n",
    "datetime.datetime.strptime(\"9220/10/11 20:12:00\", \"%y/%m/%d %H:%M:%S\")"
   ]
  },
  {
   "cell_type": "code",
   "execution_count": 70,
   "id": "6ed5646d",
   "metadata": {},
   "outputs": [],
   "source": [
    "from dateutil import parser\n",
    "date = parser.parse(\"9220/10/11 20:12:00\")"
   ]
  },
  {
   "cell_type": "code",
   "execution_count": 5,
   "id": "e0f1bf07",
   "metadata": {},
   "outputs": [],
   "source": [
    "command = \"insert into {table}({columns}) values ({values})\""
   ]
  },
  {
   "cell_type": "code",
   "execution_count": 6,
   "id": "a5ff43ce",
   "metadata": {},
   "outputs": [
    {
     "data": {
      "text/plain": [
       "'insert into a(dsad) values (dsa)'"
      ]
     },
     "execution_count": 6,
     "metadata": {},
     "output_type": "execute_result"
    }
   ],
   "source": [
    "command.format(table=\"a\", columns=\"dsad\", values=\"dsa\")"
   ]
  },
  {
   "cell_type": "code",
   "execution_count": 29,
   "id": "68117d98",
   "metadata": {},
   "outputs": [
    {
     "data": {
      "text/plain": [
       "['0GSL-00022    char(12)',\n",
       " '1CTL    char(6)',\n",
       " '2GSLK2806N    char(12)',\n",
       " '3GSLK2806N    char(12)',\n",
       " '4GSL    char(4)',\n",
       " '5GLS PHUONG NAM    char(30)',\n",
       " '61900-12-31 23:00:00    datetime',\n",
       " '7SALAN    char(10)',\n",
       " '8Z    char(1)',\n",
       " '9B    char(1)',\n",
       " '10SG7984    char(20)',\n",
       " '11K2806N    char(12)',\n",
       " '12K2806N    char(12)',\n",
       " '13TCC    char(7)',\n",
       " '14nan    char(3)',\n",
       " '15CTL    char(6)',\n",
       " '16B08    char(5)',\n",
       " '171900-12-31 23:00:00    datetime',\n",
       " '182019-06-29 07:59:00    datetime',\n",
       " '192019-06-29 08:43:00    datetime',\n",
       " '202019-06-29 08:42:00    datetime',\n",
       " '211900-12-31 00:00:00    datetime',\n",
       " '222019-06-29 08:00:00    datetime',\n",
       " '23D    char(1)',\n",
       " '24nan    char(1)',\n",
       " '250    numeric(9,3)',\n",
       " '261900-12-31 23:00:00    datetime',\n",
       " '270    int',\n",
       " '28nan    char(5)',\n",
       " '290    int',\n",
       " '30nan    char(1)',\n",
       " '31P    char(1)',\n",
       " '32nan    char(5)',\n",
       " '33nan    char(6)',\n",
       " '341900-12-31 23:00:00    datetime',\n",
       " '350    numeric(9,3)',\n",
       " '361900-12-31 23:00:00    datetime',\n",
       " '372019-06-28 16:00:00    datetime',\n",
       " '382019-06-28 19:00:00    datetime']"
      ]
     },
     "execution_count": 29,
     "metadata": {},
     "output_type": "execute_result"
    }
   ],
   "source": [
    "[str(i) + str(row.tolist()[i]) + \"    \" + col_datatype[i] for i in range(len(col_datatype))]"
   ]
  },
  {
   "cell_type": "code",
   "execution_count": 94,
   "id": "d36a7a3b",
   "metadata": {},
   "outputs": [],
   "source": [
    "data = pandas.read_excel(file, sheet_name=sheets[7], header=1)\n",
    "columns = GetColumnName(list(data.columns))"
   ]
  },
  {
   "cell_type": "code",
   "execution_count": 95,
   "id": "70a9160c",
   "metadata": {},
   "outputs": [],
   "source": [
    "data = data.dropna(subset=[columns[0]])\n",
    "col_columns = [name.replace(' ', '_') for name in data[columns[0]].tolist()]\n",
    "col_datatype = [ConvertToSQLDatatype(i) for i in data[columns[1]].tolist()]"
   ]
  },
  {
   "cell_type": "code",
   "execution_count": 96,
   "id": "d1af8281",
   "metadata": {},
   "outputs": [],
   "source": [
    "data = pandas.read_excel(path_data + dct_fileAndData[sheets[7]])\n",
    "data = data.fillna('null')\n",
    "data = data[col_columns]"
   ]
  },
  {
   "cell_type": "code",
   "execution_count": 97,
   "id": "6333cc51",
   "metadata": {},
   "outputs": [],
   "source": [
    "data, col_columns, col_datatype = CheckDatatype(data, col_columns, col_datatype)"
   ]
  },
  {
   "cell_type": "code",
   "execution_count": 98,
   "id": "12e72ec8",
   "metadata": {},
   "outputs": [],
   "source": [
    "data = ConvertData(data, col_columns, col_datatype)"
   ]
  },
  {
   "cell_type": "code",
   "execution_count": 59,
   "id": "313c8d26",
   "metadata": {},
   "outputs": [],
   "source": [
    "command = 'insert into {table}({columns}) values ({values})'.format(\n",
    "        table=sheets[0],\n",
    "        columns = ','.join(col_columns),\n",
    "    values = ','.join(ConvertListToSQLInsert(row, col_datatype))\n",
    "    )"
   ]
  },
  {
   "cell_type": "code",
   "execution_count": 54,
   "id": "ff94d5ee",
   "metadata": {},
   "outputs": [
    {
     "name": "stdout",
     "output_type": "stream",
     "text": [
      "Case\n",
      "SITE_ID\n",
      "['ITEM_KEY', 'DGS_CLASS', 'UN_NO', 'CHARGE_FLG']\n",
      "Case\n"
     ]
    }
   ],
   "source": [
    "checked = False\n",
    "while not checked:\n",
    "    print(\"Case\")\n",
    "    try:\n",
    "        data = data[col_columns]\n",
    "        checked = True\n",
    "    except KeyError as error:\n",
    "        text = str(error)\n",
    "        col = str(text[text.index('[')+2 : text.index(']')-1])\n",
    "        col_columns.remove(col)\n",
    "    except: pass"
   ]
  },
  {
   "cell_type": "code",
   "execution_count": 85,
   "id": "6736f94b",
   "metadata": {},
   "outputs": [],
   "source": [
    "result = []\n",
    "for char in data.loc[0, 'COMMODITY']:\n",
    "    if char.isalpha():\n",
    "        result.append(char)"
   ]
  },
  {
   "cell_type": "code",
   "execution_count": 87,
   "id": "f73604b3",
   "metadata": {},
   "outputs": [
    {
     "data": {
      "text/plain": [
       "'\"SHIPPERS LOAD, COUNT & SEAL\"\\n\"SAID TO CONTAIN\"\\n1X20\\n1,500 CARTONS\\n\\n15,0'"
      ]
     },
     "execution_count": 87,
     "metadata": {},
     "output_type": "execute_result"
    }
   ],
   "source": [
    "data.loc[0, 'COMMODITY']"
   ]
  },
  {
   "cell_type": "code",
   "execution_count": 105,
   "id": "deff6653",
   "metadata": {
    "scrolled": true
   },
   "outputs": [
    {
     "data": {
      "text/plain": [
       "['ITEM_KEY : int',\n",
       " 'ITEM_NO : char(12)',\n",
       " 'SITE_ID : char(6)',\n",
       " 'ARR_BY : char(1)',\n",
       " 'ARR_CAR : char(12)',\n",
       " 'ARR_TS : datetime',\n",
       " 'FEL : char(1)',\n",
       " 'DEP_TS : datetime',\n",
       " 'DEP_BY : char(1)',\n",
       " 'DEP_CAR : char(12)',\n",
       " 'ISO : char(1)',\n",
       " 'LENGTH : numeric(9,3)',\n",
       " 'CATEGORY : char(1)',\n",
       " 'OWNER : char(3)',\n",
       " 'EXIT_VES_CD : char(3)',\n",
       " 'EXIT_VOYAGE : char(12)',\n",
       " 'PLACE_OF_DELIVERY : char(8)',\n",
       " 'PLACE_OF_RECEIPT : char(8)',\n",
       " 'ITEM_TYPE : char(2)',\n",
       " 'SLOT_CODE : char(7)',\n",
       " 'LINE_OPER : char(7)',\n",
       " 'AGENT : char(3)',\n",
       " 'DISCH_PORT : char(5)',\n",
       " 'FDISCH_PORT : char(5)',\n",
       " 'HIST_FLG : char(1)',\n",
       " 'LOAD_PORT : char(5)',\n",
       " 'LL_DISCH_PORT : char(5)']"
      ]
     },
     "execution_count": 105,
     "metadata": {},
     "output_type": "execute_result"
    }
   ],
   "source": [
    "[col_columns[i] + \" : \" + col_datatype[i] for i in range(len(col_columns))]"
   ]
  },
  {
   "cell_type": "code",
   "execution_count": 53,
   "id": "3733e1fa",
   "metadata": {},
   "outputs": [
    {
     "data": {
      "text/plain": [
       "\"'SITE_ID'\""
      ]
     },
     "execution_count": 53,
     "metadata": {},
     "output_type": "execute_result"
    }
   ],
   "source": [
    "col"
   ]
  },
  {
   "cell_type": "code",
   "execution_count": 34,
   "id": "61b81379",
   "metadata": {},
   "outputs": [],
   "source": [
    "for i in range(len(col_datatype)):\n",
    "    if col_datatype[i] == 'datetime':\n",
    "        row[i] = str(row[i])"
   ]
  },
  {
   "cell_type": "code",
   "execution_count": 105,
   "id": "1f731cb0",
   "metadata": {},
   "outputs": [
    {
     "data": {
      "text/plain": [
       "'ACT_BERTH_TS'"
      ]
     },
     "execution_count": 105,
     "metadata": {},
     "output_type": "execute_result"
    }
   ],
   "source": [
    "col_columns[18]"
   ]
  },
  {
   "cell_type": "code",
   "execution_count": 106,
   "id": "686315a4",
   "metadata": {},
   "outputs": [
    {
     "data": {
      "text/plain": [
       "'datetime'"
      ]
     },
     "execution_count": 106,
     "metadata": {},
     "output_type": "execute_result"
    }
   ],
   "source": [
    "col_datatype[18]"
   ]
  },
  {
   "cell_type": "code",
   "execution_count": 48,
   "id": "81df481f",
   "metadata": {},
   "outputs": [
    {
     "data": {
      "text/plain": [
       "True"
      ]
     },
     "execution_count": 48,
     "metadata": {},
     "output_type": "execute_result"
    }
   ],
   "source": [
    "'SITE_ID' in col_columns"
   ]
  },
  {
   "cell_type": "code",
   "execution_count": 25,
   "id": "bbf9682b",
   "metadata": {},
   "outputs": [],
   "source": [
    "data = data.astype({'ACT_BERTH_TS':'datetime64'})"
   ]
  },
  {
   "cell_type": "code",
   "execution_count": 41,
   "id": "3606a13c",
   "metadata": {},
   "outputs": [
    {
     "ename": "TypeError",
     "evalue": "int() argument must be a string, a bytes-like object or a number, not 'datetime.datetime'",
     "output_type": "error",
     "traceback": [
      "\u001b[1;31m---------------------------------------------------------------------------\u001b[0m",
      "\u001b[1;31mTypeError\u001b[0m                                 Traceback (most recent call last)",
      "Input \u001b[1;32mIn [41]\u001b[0m, in \u001b[0;36m<cell line: 1>\u001b[1;34m()\u001b[0m\n\u001b[1;32m----> 1\u001b[0m \u001b[38;5;28;43mint\u001b[39;49m\u001b[43m(\u001b[49m\u001b[43mdata\u001b[49m\u001b[38;5;241;43m.\u001b[39;49m\u001b[43mloc\u001b[49m\u001b[43m[\u001b[49m\u001b[38;5;241;43m0\u001b[39;49m\u001b[43m,\u001b[49m\u001b[43m \u001b[49m\u001b[38;5;124;43m'\u001b[39;49m\u001b[38;5;124;43mACT_BERTH_TS\u001b[39;49m\u001b[38;5;124;43m'\u001b[39;49m\u001b[43m]\u001b[49m\u001b[38;5;241;43m.\u001b[39;49m\u001b[43mto_pydatetime\u001b[49m\u001b[43m(\u001b[49m\u001b[43m)\u001b[49m\u001b[43m)\u001b[49m\n",
      "\u001b[1;31mTypeError\u001b[0m: int() argument must be a string, a bytes-like object or a number, not 'datetime.datetime'"
     ]
    }
   ],
   "source": [
    "data.loc[0, 'ACT_BERTH_TS'].to_pydatetime().ipynb_checkpoints/"
   ]
  },
  {
   "cell_type": "code",
   "execution_count": 98,
   "id": "95096e36",
   "metadata": {},
   "outputs": [
    {
     "data": {
      "text/plain": [
       "0        2200\n",
       "1        2200\n",
       "2        4200\n",
       "3        4200\n",
       "4        4500\n",
       "         ... \n",
       "47995    2200\n",
       "47996    2200\n",
       "47997    4500\n",
       "47998    2200\n",
       "47999    4500\n",
       "Name: ISO, Length: 48000, dtype: object"
      ]
     },
     "execution_count": 98,
     "metadata": {},
     "output_type": "execute_result"
    }
   ],
   "source": [
    "data['ISO'].apply(lambda x: str(x))"
   ]
  },
  {
   "cell_type": "code",
   "execution_count": 32,
   "id": "f94820d8",
   "metadata": {},
   "outputs": [],
   "source": [
    "data = data.fillna(\"null\")"
   ]
  },
  {
   "cell_type": "code",
   "execution_count": 18,
   "id": "5d4c05d4",
   "metadata": {},
   "outputs": [],
   "source": [
    "df = pandas.read_excel(path_data + dct_fileAndData[sheets[0]])"
   ]
  },
  {
   "cell_type": "code",
   "execution_count": 269,
   "id": "4f9ad51a",
   "metadata": {},
   "outputs": [
    {
     "ename": "TypeError",
     "evalue": "'RangeIndex' object is not callable",
     "output_type": "error",
     "traceback": [
      "\u001b[1;31m---------------------------------------------------------------------------\u001b[0m",
      "\u001b[1;31mTypeError\u001b[0m                                 Traceback (most recent call last)",
      "Input \u001b[1;32mIn [269]\u001b[0m, in \u001b[0;36m<cell line: 1>\u001b[1;34m()\u001b[0m\n\u001b[1;32m----> 1\u001b[0m data \u001b[38;5;241m=\u001b[39m data\u001b[38;5;241m.\u001b[39mdrop(\u001b[43mdata\u001b[49m\u001b[38;5;241;43m.\u001b[39;49m\u001b[43mindex\u001b[49m\u001b[43m(\u001b[49m\u001b[38;5;241;43m0\u001b[39;49m\u001b[43m)\u001b[49m)\n",
      "\u001b[1;31mTypeError\u001b[0m: 'RangeIndex' object is not callable"
     ]
    }
   ],
   "source": [
    "data = data.drop(data.index(0))"
   ]
  },
  {
   "cell_type": "code",
   "execution_count": 128,
   "id": "3a9381f4",
   "metadata": {},
   "outputs": [],
   "source": [
    "def ConvertListToSQLInsert(row, datatype):\n",
    "    result = []\n",
    "    for i in range(len(datatype)):\n",
    "        if row[i] == 'null':\n",
    "            result.append(row[i])\n",
    "        elif 'varchar' in datatype[i]:\n",
    "            result.append(\"N'%s'\"%(row[i]))\n",
    "        elif 'char' in datatype[i]:\n",
    "            result.append(\"'%s'\"%(row[i]))\n",
    "        elif datatype[i] == 'datetime':\n",
    "            result.append(\"'%s'\"%(str(row[i])))\n",
    "        else:\n",
    "            result.append(str(row[i]))\n",
    "    return result"
   ]
  },
  {
   "cell_type": "code",
   "execution_count": 50,
   "id": "c6bf23c8",
   "metadata": {},
   "outputs": [
    {
     "data": {
      "text/plain": [
       "\"'GSL-00022','CTL','GSLK2806N','GSLK2806N','GSL','GLS PHUONG NAM','1900-12-31 23:00:00','SALAN','Z','B','SG7984','K2806N','K2806N','TCC',null,'CTL','B08','1900-12-31 23:00:00','2019-06-29 07:59:00','2019-06-29 08:43:00','2019-06-29 08:42:00','1900-12-31 00:00:00','2019-06-29 08:00:00','D',null,0.0,'1900-12-31 23:00:00',0,null,0,null,'P',null,null,'1900-12-31 23:00:00',0.0,'1900-12-31 23:00:00','2019-06-28 16:00:00','2019-06-28 19:00:00'\""
      ]
     },
     "execution_count": 50,
     "metadata": {},
     "output_type": "execute_result"
    }
   ],
   "source": [
    "','.join(ConvertListToSQLInsert(row, col_datatype))"
   ]
  },
  {
   "cell_type": "code",
   "execution_count": 48,
   "id": "21cfb44b",
   "metadata": {},
   "outputs": [
    {
     "data": {
      "text/plain": [
       "[\"'GSL-00022'\",\n",
       " \"'CTL'\",\n",
       " \"'GSLK2806N'\",\n",
       " \"'GSLK2806N'\",\n",
       " \"'GSL'\",\n",
       " \"'GLS PHUONG NAM'\",\n",
       " \"'1900-12-31 23:00:00'\",\n",
       " \"'SALAN'\",\n",
       " \"'Z'\",\n",
       " \"'B'\",\n",
       " \"'SG7984'\",\n",
       " \"'K2806N'\",\n",
       " \"'K2806N'\",\n",
       " \"'TCC'\",\n",
       " 'null',\n",
       " \"'CTL'\",\n",
       " \"'B08'\",\n",
       " \"'1900-12-31 23:00:00'\",\n",
       " \"'2019-06-29 07:59:00'\",\n",
       " \"'2019-06-29 08:43:00'\",\n",
       " \"'2019-06-29 08:42:00'\",\n",
       " \"'1900-12-31 00:00:00'\",\n",
       " \"'2019-06-29 08:00:00'\",\n",
       " \"'D'\",\n",
       " 'null',\n",
       " 0.0,\n",
       " \"'1900-12-31 23:00:00'\",\n",
       " 0,\n",
       " 'null',\n",
       " 0,\n",
       " 'null',\n",
       " \"'P'\",\n",
       " 'null',\n",
       " 'null',\n",
       " \"'1900-12-31 23:00:00'\",\n",
       " 0.0,\n",
       " \"'1900-12-31 23:00:00'\",\n",
       " \"'2019-06-28 16:00:00'\",\n",
       " \"'2019-06-28 19:00:00'\"]"
      ]
     },
     "execution_count": 48,
     "metadata": {},
     "output_type": "execute_result"
    }
   ],
   "source": [
    "ConvertListToSQLInsert(row, col_datatype)"
   ]
  },
  {
   "cell_type": "code",
   "execution_count": 37,
   "id": "8b393cfc",
   "metadata": {},
   "outputs": [
    {
     "ename": "ValueError",
     "evalue": "list.remove(x): x not in list",
     "output_type": "error",
     "traceback": [
      "\u001b[1;31m---------------------------------------------------------------------------\u001b[0m",
      "\u001b[1;31mKeyError\u001b[0m                                  Traceback (most recent call last)",
      "Input \u001b[1;32mIn [37]\u001b[0m, in \u001b[0;36m<cell line: 2>\u001b[1;34m()\u001b[0m\n\u001b[0;32m      3\u001b[0m \u001b[38;5;28;01mtry\u001b[39;00m:\n\u001b[1;32m----> 4\u001b[0m     data \u001b[38;5;241m=\u001b[39m \u001b[43mdata\u001b[49m\u001b[43m[\u001b[49m\u001b[43mcol_columns\u001b[49m\u001b[43m]\u001b[49m\n\u001b[0;32m      5\u001b[0m     checked \u001b[38;5;241m=\u001b[39m \u001b[38;5;28;01mTrue\u001b[39;00m\n",
      "File \u001b[1;32m~\\AppData\\Roaming\\Python\\Python39\\site-packages\\pandas\\core\\frame.py:3511\u001b[0m, in \u001b[0;36mDataFrame.__getitem__\u001b[1;34m(self, key)\u001b[0m\n\u001b[0;32m   3510\u001b[0m         key \u001b[38;5;241m=\u001b[39m \u001b[38;5;28mlist\u001b[39m(key)\n\u001b[1;32m-> 3511\u001b[0m     indexer \u001b[38;5;241m=\u001b[39m \u001b[38;5;28;43mself\u001b[39;49m\u001b[38;5;241;43m.\u001b[39;49m\u001b[43mcolumns\u001b[49m\u001b[38;5;241;43m.\u001b[39;49m\u001b[43m_get_indexer_strict\u001b[49m\u001b[43m(\u001b[49m\u001b[43mkey\u001b[49m\u001b[43m,\u001b[49m\u001b[43m \u001b[49m\u001b[38;5;124;43m\"\u001b[39;49m\u001b[38;5;124;43mcolumns\u001b[39;49m\u001b[38;5;124;43m\"\u001b[39;49m\u001b[43m)\u001b[49m[\u001b[38;5;241m1\u001b[39m]\n\u001b[0;32m   3513\u001b[0m \u001b[38;5;66;03m# take() does not accept boolean indexers\u001b[39;00m\n",
      "File \u001b[1;32m~\\AppData\\Roaming\\Python\\Python39\\site-packages\\pandas\\core\\indexes\\base.py:5782\u001b[0m, in \u001b[0;36mIndex._get_indexer_strict\u001b[1;34m(self, key, axis_name)\u001b[0m\n\u001b[0;32m   5780\u001b[0m     keyarr, indexer, new_indexer \u001b[38;5;241m=\u001b[39m \u001b[38;5;28mself\u001b[39m\u001b[38;5;241m.\u001b[39m_reindex_non_unique(keyarr)\n\u001b[1;32m-> 5782\u001b[0m \u001b[38;5;28;43mself\u001b[39;49m\u001b[38;5;241;43m.\u001b[39;49m\u001b[43m_raise_if_missing\u001b[49m\u001b[43m(\u001b[49m\u001b[43mkeyarr\u001b[49m\u001b[43m,\u001b[49m\u001b[43m \u001b[49m\u001b[43mindexer\u001b[49m\u001b[43m,\u001b[49m\u001b[43m \u001b[49m\u001b[43maxis_name\u001b[49m\u001b[43m)\u001b[49m\n\u001b[0;32m   5784\u001b[0m keyarr \u001b[38;5;241m=\u001b[39m \u001b[38;5;28mself\u001b[39m\u001b[38;5;241m.\u001b[39mtake(indexer)\n",
      "File \u001b[1;32m~\\AppData\\Roaming\\Python\\Python39\\site-packages\\pandas\\core\\indexes\\base.py:5845\u001b[0m, in \u001b[0;36mIndex._raise_if_missing\u001b[1;34m(self, key, indexer, axis_name)\u001b[0m\n\u001b[0;32m   5844\u001b[0m not_found \u001b[38;5;241m=\u001b[39m \u001b[38;5;28mlist\u001b[39m(ensure_index(key)[missing_mask\u001b[38;5;241m.\u001b[39mnonzero()[\u001b[38;5;241m0\u001b[39m]]\u001b[38;5;241m.\u001b[39munique())\n\u001b[1;32m-> 5845\u001b[0m \u001b[38;5;28;01mraise\u001b[39;00m \u001b[38;5;167;01mKeyError\u001b[39;00m(\u001b[38;5;124mf\u001b[39m\u001b[38;5;124m\"\u001b[39m\u001b[38;5;132;01m{\u001b[39;00mnot_found\u001b[38;5;132;01m}\u001b[39;00m\u001b[38;5;124m not in index\u001b[39m\u001b[38;5;124m\"\u001b[39m)\n",
      "\u001b[1;31mKeyError\u001b[0m: \"['SITE_ID'] not in index\"",
      "\nDuring handling of the above exception, another exception occurred:\n",
      "\u001b[1;31mValueError\u001b[0m                                Traceback (most recent call last)",
      "Input \u001b[1;32mIn [37]\u001b[0m, in \u001b[0;36m<cell line: 2>\u001b[1;34m()\u001b[0m\n\u001b[0;32m      7\u001b[0m text \u001b[38;5;241m=\u001b[39m \u001b[38;5;28mstr\u001b[39m(error)\n\u001b[0;32m      8\u001b[0m col \u001b[38;5;241m=\u001b[39m text[text\u001b[38;5;241m.\u001b[39mindex(\u001b[38;5;124m'\u001b[39m\u001b[38;5;124m[\u001b[39m\u001b[38;5;124m'\u001b[39m)\u001b[38;5;241m+\u001b[39m\u001b[38;5;241m1\u001b[39m : text\u001b[38;5;241m.\u001b[39mindex(\u001b[38;5;124m'\u001b[39m\u001b[38;5;124m]\u001b[39m\u001b[38;5;124m'\u001b[39m)]\n\u001b[1;32m----> 9\u001b[0m \u001b[43mcol_columns\u001b[49m\u001b[38;5;241;43m.\u001b[39;49m\u001b[43mremove\u001b[49m\u001b[43m(\u001b[49m\u001b[43mcol\u001b[49m\u001b[43m)\u001b[49m\n",
      "\u001b[1;31mValueError\u001b[0m: list.remove(x): x not in list"
     ]
    }
   ],
   "source": [
    "checked = False\n",
    "while not checked:\n",
    "    try:\n",
    "        data = data[col_columns]\n",
    "        checked = True\n",
    "    except KeyError as error:\n",
    "        text = str(error)\n",
    "        col = text[text.index('[')+1 : text.index(']')]\n",
    "        col_columns.remove(col)"
   ]
  },
  {
   "cell_type": "code",
   "execution_count": 74,
   "id": "7ca1c9b9",
   "metadata": {},
   "outputs": [
    {
     "name": "stdout",
     "output_type": "stream",
     "text": [
      "insert into das(dasd) values ('GSL-00022','CTL','GSLK2806N','GSLK2806N','GSL','GLS PHUONG NAM','1900-12-31 23:00:00','SALAN','Z','B','SG7984','K2806N','K2806N','TCC',null,'CTL','B08','1900-12-31 23:00:00','2019-06-29 07:59:00','2019-06-29 08:43:00','2019-06-29 08:42:00','1900-12-31 00:00:00','2019-06-29 08:00:00','D',null,0.0,'1900-12-31 23:00:00',0,null,0,null,'P',null,null,'1900-12-31 23:00:00',0.0,'1900-12-31 23:00:00','2019-06-28 16:00:00','2019-06-28 19:00:00')\n"
     ]
    }
   ],
   "source": [
    "for i in range(len(data)):\n",
    "    row = ConvertListToSQLInsert(data.loc[i].tolist(), col_datatype)\n",
    "    print(command.format(table=\"das\", columns=\"dasd\", values=','.join(row)))\n",
    "    break"
   ]
  },
  {
   "cell_type": "code",
   "execution_count": 76,
   "id": "c90409ec",
   "metadata": {},
   "outputs": [],
   "source": [
    "def CheckDatatype(data, col_columns, col_datatype, change=True):\n",
    "    for i in range(len(col_datatype)):\n",
    "        if 'char' in col_datatype[i]:\n",
    "#             print(col_columns[i], col_datatype[i], end='')\n",
    "            try:\n",
    "                data[col_columns[i]] = data[col_columns[i]].apply(str)\n",
    "                str_type = col_datatype[i]\n",
    "                numOfChar = str_type[str_type.index('(')+1 : str_type.index(')')]\n",
    "                lstLen = [len(text) for text in data[col_columns[i]].unique().tolist()]\n",
    "                if max(lstLen) > int(numOfChar):\n",
    "                    col_datatype[i] = col_datatype[i].replace(numOfChar, str(max(lstLen)))\n",
    "#                     raise ValueError(col_columns[i] + \" has elements longer than \" + col_datatype[i])\n",
    "                else:\n",
    "                    pass\n",
    "#                     print('check')\n",
    "            except:\n",
    "                raise TypeError(\"Cant convert \" +col_columns[i] + \" to \" + col_datatype[i])\n",
    "    return data, col_columns, col_datatype"
   ]
  },
  {
   "cell_type": "code",
   "execution_count": 160,
   "id": "0dc61aab",
   "metadata": {},
   "outputs": [
    {
     "name": "stdout",
     "output_type": "stream",
     "text": [
      "ITEM_NO char(12)check\n",
      "SITE_ID char(6)check\n",
      "ARR_BY char(1)check\n",
      "ARR_CAR char(12)check\n",
      "FEL char(1)check\n",
      "DEP_BY char(1)check\n",
      "DEP_CAR char(19)check\n",
      "ISO char(4)check\n",
      "CATEGORY char(1)check\n",
      "OWNER char(3)check\n",
      "EXIT_VES_CD char(3)check\n",
      "EXIT_VOYAGE char(12)check\n",
      "PLACE_OF_DELIVERY char(8)check\n",
      "PLACE_OF_RECEIPT char(8)check\n",
      "ITEM_TYPE char(2)check\n",
      "SLOT_CODE char(7)check\n",
      "LINE_OPER char(7)check\n",
      "AGENT char(3)check\n",
      "DISCH_PORT char(5)check\n",
      "FDISCH_PORT char(5)check\n",
      "HIST_FLG char(3)check\n",
      "LOAD_PORT char(5)check\n",
      "LL_DISCH_PORT char(5)check\n"
     ]
    }
   ],
   "source": [
    "data, col_columns, col_datatype = CheckDatatype(data, col_columns, col_datatype)"
   ]
  },
  {
   "cell_type": "code",
   "execution_count": 143,
   "id": "ba6272ea",
   "metadata": {},
   "outputs": [
    {
     "data": {
      "text/plain": [
       "19"
      ]
     },
     "execution_count": 143,
     "metadata": {},
     "output_type": "execute_result"
    }
   ],
   "source": [
    "max([len(text) for text in data['DEP_CAR'].unique().tolist()])"
   ]
  },
  {
   "cell_type": "code",
   "execution_count": 156,
   "id": "88a61440",
   "metadata": {},
   "outputs": [
    {
     "data": {
      "text/plain": [
       "10"
      ]
     },
     "execution_count": 156,
     "metadata": {},
     "output_type": "execute_result"
    }
   ],
   "source": [
    "col_columns.index('ISO')"
   ]
  },
  {
   "cell_type": "code",
   "execution_count": 117,
   "id": "43d7a448",
   "metadata": {},
   "outputs": [],
   "source": [
    "text = 'char(40)'"
   ]
  },
  {
   "cell_type": "code",
   "execution_count": 119,
   "id": "ddddf02e",
   "metadata": {},
   "outputs": [
    {
     "data": {
      "text/plain": [
       "'40'"
      ]
     },
     "execution_count": 119,
     "metadata": {},
     "output_type": "execute_result"
    }
   ],
   "source": [
    "text[text.index('(')+1 : text.index(')')]"
   ]
  },
  {
   "cell_type": "code",
   "execution_count": 35,
   "id": "01c4cf94",
   "metadata": {},
   "outputs": [
    {
     "ename": "SyntaxError",
     "evalue": "invalid syntax (242151486.py, line 4)",
     "output_type": "error",
     "traceback": [
      "\u001b[1;36m  Input \u001b[1;32mIn [35]\u001b[1;36m\u001b[0m\n\u001b[1;33m    except:\u001b[0m\n\u001b[1;37m    ^\u001b[0m\n\u001b[1;31mSyntaxError\u001b[0m\u001b[1;31m:\u001b[0m invalid syntax\n"
     ]
    }
   ],
   "source": [
    "i = -5\n",
    "while i < 5:\n",
    "    print(i/2)\n",
    "except:\n",
    "    print(\"Chia cho 0\")"
   ]
  },
  {
   "cell_type": "code",
   "execution_count": 176,
   "id": "c97d04a1",
   "metadata": {},
   "outputs": [
    {
     "data": {
      "text/plain": [
       "VES_ID                         GSL-00022\n",
       "SITE_ID                              CTL\n",
       "TFC_CODE_E                     GSLK2806N\n",
       "TFC_CODE_I                     GSLK2806N\n",
       "VES_CD                               GSL\n",
       "VES_NAME                  GLS PHUONG NAM\n",
       "VES_DEP_DATE         1900-12-31 23:00:00\n",
       "VES_SERVICE                        SALAN\n",
       "VES_STATUS                             Z\n",
       "VES_TYPE                               B\n",
       "CALL_SIGN                         SG7984\n",
       "IN_VOYAGE                         K2806N\n",
       "OUT_VOYAGE                        K2806N\n",
       "LINE_OPER                            TCC\n",
       "AGENT                                nan\n",
       "OWNER                                CTL\n",
       "BERTH_NO                             B08\n",
       "ACT_ANCHORAGE_TS     1900-12-31 23:00:00\n",
       "ACT_BERTH_TS         2019-06-29 07:59:00\n",
       "ACT_DEP_TS           2019-06-29 08:43:00\n",
       "ACT_END_WORK_TS      2019-06-29 08:42:00\n",
       "ACT_PILOT_TS         1900-12-31 00:00:00\n",
       "ACT_START_WORK_TS    2019-06-29 08:00:00\n",
       "OCEAN_INTERISLAND                      D\n",
       "ALL_LINES                            nan\n",
       "VES_LENGTH                           0.0\n",
       "AVAILABLE_TS         1900-12-31 23:00:00\n",
       "BERTH_FR_METRE                         0\n",
       "BERTH_GRID                           nan\n",
       "BERTH_TO_METRE                         0\n",
       "BILLING_COMPLETE                     nan\n",
       "BTOA_SIDE                              P\n",
       "CLEARANCE_AREA                       nan\n",
       "DEST_PORT                            nan\n",
       "DOCO_CUTOFF_TS       1900-12-31 23:00:00\n",
       "EFFECTIVE_TIME                       0.0\n",
       "EST_ANCHORAGE_TS     1900-12-31 23:00:00\n",
       "EST_BERTH_TS         2019-06-28 16:00:00\n",
       "EST_DEP_TS           2019-06-28 19:00:00\n",
       "Name: 0, dtype: object"
      ]
     },
     "execution_count": 176,
     "metadata": {},
     "output_type": "execute_result"
    }
   ],
   "source": [
    "data.loc[0]"
   ]
  },
  {
   "cell_type": "code",
   "execution_count": 186,
   "id": "33a6f986",
   "metadata": {},
   "outputs": [],
   "source": [
    "data = data.fillna(value='null')"
   ]
  },
  {
   "cell_type": "code",
   "execution_count": 188,
   "id": "933f515b",
   "metadata": {},
   "outputs": [
    {
     "data": {
      "text/plain": [
       "VES_ID                         T21-00807\n",
       "SITE_ID                              CTL\n",
       "TFC_CODE_E                   T21S260719X\n",
       "TFC_CODE_I                       T21NONE\n",
       "VES_CD                               T21\n",
       "VES_NAME                     TAN CANG 21\n",
       "VES_DEP_DATE         1900-12-31 23:00:00\n",
       "VES_SERVICE                        SALAN\n",
       "VES_STATUS                             Z\n",
       "VES_TYPE                               B\n",
       "CALL_SIGN                          QC-21\n",
       "IN_VOYAGE                           NONE\n",
       "OUT_VOYAGE                      S260719X\n",
       "LINE_OPER                            TWT\n",
       "AGENT                                nan\n",
       "OWNER                                CTL\n",
       "BERTH_NO                             B08\n",
       "ACT_ANCHORAGE_TS     1900-12-31 23:00:00\n",
       "ACT_BERTH_TS         2019-07-26 20:18:00\n",
       "ACT_DEP_TS           2019-07-27 03:25:00\n",
       "ACT_END_WORK_TS      2019-07-27 03:24:00\n",
       "ACT_PILOT_TS         1900-12-31 00:00:00\n",
       "ACT_START_WORK_TS    2019-07-26 20:19:00\n",
       "OCEAN_INTERISLAND                      D\n",
       "ALL_LINES                            nan\n",
       "VES_LENGTH                             0\n",
       "AVAILABLE_TS         1900-12-31 23:00:00\n",
       "BERTH_FR_METRE                         0\n",
       "BERTH_GRID                           nan\n",
       "BERTH_TO_METRE                         0\n",
       "BILLING_COMPLETE                     nan\n",
       "BTOA_SIDE                              P\n",
       "CLEARANCE_AREA                       nan\n",
       "DEST_PORT                            nan\n",
       "DOCO_CUTOFF_TS       1900-12-31 23:00:00\n",
       "EFFECTIVE_TIME                         0\n",
       "EST_ANCHORAGE_TS     1900-12-31 23:00:00\n",
       "EST_BERTH_TS         2019-07-26 09:11:00\n",
       "EST_DEP_TS           2019-07-26 13:00:00\n",
       "Name: 9, dtype: object"
      ]
     },
     "execution_count": 188,
     "metadata": {},
     "output_type": "execute_result"
    }
   ],
   "source": [
    "data.loc[9]"
   ]
  },
  {
   "cell_type": "code",
   "execution_count": 344,
   "id": "684b1432",
   "metadata": {},
   "outputs": [],
   "source": [
    "connection.close()"
   ]
  },
  {
   "cell_type": "code",
   "execution_count": 197,
   "id": "313e007c",
   "metadata": {},
   "outputs": [
    {
     "ename": "ProgrammingError",
     "evalue": "('42S02', \"[42S02] [Microsoft][ODBC SQL Server Driver][SQL Server]Invalid object name 'VESSEL_DETAILS'. (208) (SQLExecDirectW)\")",
     "output_type": "error",
     "traceback": [
      "\u001b[1;31m---------------------------------------------------------------------------\u001b[0m",
      "\u001b[1;31mProgrammingError\u001b[0m                          Traceback (most recent call last)",
      "Input \u001b[1;32mIn [197]\u001b[0m, in \u001b[0;36m<cell line: 1>\u001b[1;34m()\u001b[0m\n\u001b[1;32m----> 1\u001b[0m result \u001b[38;5;241m=\u001b[39m \u001b[43mcursor\u001b[49m\u001b[38;5;241;43m.\u001b[39;49m\u001b[43mexecute\u001b[49m\u001b[43m(\u001b[49m\u001b[38;5;124;43m\"\u001b[39;49m\u001b[38;5;124;43mselect * from VESSEL_DETAILS\u001b[39;49m\u001b[38;5;124;43m\"\u001b[39;49m\u001b[43m)\u001b[49m\n",
      "\u001b[1;31mProgrammingError\u001b[0m: ('42S02', \"[42S02] [Microsoft][ODBC SQL Server Driver][SQL Server]Invalid object name 'VESSEL_DETAILS'. (208) (SQLExecDirectW)\")"
     ]
    }
   ],
   "source": [
    "result = cursor.execute(\"select * from VESSEL_DETAILS\")"
   ]
  },
  {
   "cell_type": "code",
   "execution_count": 237,
   "id": "dd1e72d2",
   "metadata": {},
   "outputs": [],
   "source": [
    "date = data.loc[0, 'CRT_TS']"
   ]
  },
  {
   "cell_type": "code",
   "execution_count": 239,
   "id": "ea57d9cb",
   "metadata": {},
   "outputs": [
    {
     "data": {
      "text/plain": [
       "OPERATION_METHOD           char(20)\n",
       "CHARGE_CD                  char(12)\n",
       "CATEGORY                   char(50)\n",
       "SPEC_HDL_CD                 char(4)\n",
       "OPERATION_NAME         varchar2(50)\n",
       "CRT_TS                         date\n",
       "SITE_ID                     char(6)\n",
       "OPERATION_TYPE         varchar2(12)\n",
       "TERMINAL_ID                char(12)\n",
       "MOVE_REASON_CD              char(4)\n",
       "DIRECT_IMP_EXP              char(1)\n",
       "PLACE_OF_RECEIPT            char(3)\n",
       "PLACE_OF_DELIVERY           char(3)\n",
       "OUT_VOYAGE_INFO_FLG         char(1)\n",
       "Name: 0, dtype: object"
      ]
     },
     "execution_count": 239,
     "metadata": {},
     "output_type": "execute_result"
    }
   ],
   "source": [
    "data.loc[0]"
   ]
  },
  {
   "cell_type": "code",
   "execution_count": 69,
   "id": "d7de5495",
   "metadata": {},
   "outputs": [
    {
     "data": {
      "text/plain": [
       "<pyodbc.Cursor at 0x1917df7f9b0>"
      ]
     },
     "execution_count": 69,
     "metadata": {},
     "output_type": "execute_result"
    }
   ],
   "source": [
    "cursor.execute(\"insert into test(real_name) values ('%s')\"%(CleanText(lst[0])))"
   ]
  },
  {
   "cell_type": "code",
   "execution_count": 27,
   "id": "2f301644",
   "metadata": {},
   "outputs": [],
   "source": [
    "name = \"'a\\r\\nb'\"\n",
    "real_name = \"'a\\r\\nb'\""
   ]
  },
  {
   "cell_type": "code",
   "execution_count": 29,
   "id": "8a0c41c2",
   "metadata": {},
   "outputs": [
    {
     "data": {
      "text/plain": [
       "\"insert into test values ('a\\r\\nb', 'a\\r\\nb')\""
      ]
     },
     "execution_count": 29,
     "metadata": {},
     "output_type": "execute_result"
    }
   ],
   "source": [
    "\"insert into test(real_name) values (%s)\"%(name, real_name)"
   ]
  },
  {
   "cell_type": "code",
   "execution_count": 54,
   "id": "205a0709",
   "metadata": {},
   "outputs": [
    {
     "ename": "ProgrammingError",
     "evalue": "The cursor's connection has been closed.",
     "output_type": "error",
     "traceback": [
      "\u001b[1;31m---------------------------------------------------------------------------\u001b[0m",
      "\u001b[1;31mProgrammingError\u001b[0m                          Traceback (most recent call last)",
      "Input \u001b[1;32mIn [54]\u001b[0m, in \u001b[0;36m<cell line: 1>\u001b[1;34m()\u001b[0m\n\u001b[1;32m----> 1\u001b[0m result \u001b[38;5;241m=\u001b[39m \u001b[43mcursor\u001b[49m\u001b[38;5;241;43m.\u001b[39;49m\u001b[43mexecute\u001b[49m\u001b[43m(\u001b[49m\u001b[38;5;124;43m'\u001b[39;49m\u001b[38;5;124;43mselect * from test\u001b[39;49m\u001b[38;5;124;43m'\u001b[39;49m\u001b[43m)\u001b[49m\n",
      "\u001b[1;31mProgrammingError\u001b[0m: The cursor's connection has been closed."
     ]
    }
   ],
   "source": [
    "result = cursor.execute('select * from test')"
   ]
  },
  {
   "cell_type": "code",
   "execution_count": 20,
   "id": "e83750d5",
   "metadata": {},
   "outputs": [
    {
     "data": {
      "text/plain": [
       "[('viet', 'First'),\n",
       " ('nemae', None),\n",
       " ('name', 'real_name'),\n",
       " ('test', 'dasd'),\n",
       " ('First line', 'Second\\r\\nline')]"
      ]
     },
     "execution_count": 20,
     "metadata": {},
     "output_type": "execute_result"
    }
   ],
   "source": [
    "result.fetchall()"
   ]
  },
  {
   "cell_type": "code",
   "execution_count": 135,
   "id": "ff5ee4b7",
   "metadata": {},
   "outputs": [],
   "source": [
    "connection.commit()\n",
    "connection.close()"
   ]
  },
  {
   "cell_type": "code",
   "execution_count": 82,
   "id": "5893e2a7",
   "metadata": {},
   "outputs": [],
   "source": [
    "lst = data['COMMODITY'].tolist()"
   ]
  },
  {
   "cell_type": "code",
   "execution_count": 66,
   "id": "120d8993",
   "metadata": {},
   "outputs": [],
   "source": [
    "def CleanText(text):\n",
    "    text = text.replace('\\n', '\\r\\n')\n",
    "    text = text.replace('_x000D_', '')\n",
    "    text = text.replace('\"', '')\n",
    "    return text"
   ]
  },
  {
   "cell_type": "code",
   "execution_count": 68,
   "id": "79f2fdfd",
   "metadata": {},
   "outputs": [
    {
     "data": {
      "text/plain": [
       "'SHIPPERS LOAD, COUNT & SEAL\\r\\nSAID TO CONTAIN\\r\\n1X20\\r\\n1,500 CARTONS\\r\\n\\r\\n15,0'"
      ]
     },
     "execution_count": 68,
     "metadata": {},
     "output_type": "execute_result"
    }
   ],
   "source": [
    "'%s'%(CleanText(lst[0])"
   ]
  },
  {
   "cell_type": "code",
   "execution_count": 123,
   "id": "7eec6361",
   "metadata": {},
   "outputs": [],
   "source": [
    "row[15] = \"N' '\""
   ]
  },
  {
   "cell_type": "code",
   "execution_count": 113,
   "id": "297c6ab0",
   "metadata": {},
   "outputs": [],
   "source": [
    "row = ConvertListToSQLInsert(data.loc[0].tolist(), col_datatype)"
   ]
  },
  {
   "cell_type": "code",
   "execution_count": 125,
   "id": "e41a1ded",
   "metadata": {},
   "outputs": [
    {
     "data": {
      "text/plain": [
       "<pyodbc.Cursor at 0x1917df7f9b0>"
      ]
     },
     "execution_count": 125,
     "metadata": {},
     "output_type": "execute_result"
    }
   ],
   "source": [
    "cursor.execute('insert into DISCHARGE_LIST values (%s)'%(','.join(row)))"
   ]
  },
  {
   "cell_type": "code",
   "execution_count": 124,
   "id": "2a2e01cf",
   "metadata": {},
   "outputs": [
    {
     "data": {
      "text/plain": [
       "\"12767773,'BMOU1313845','NTV1812N','GP',null,null,6978595,null,'CTL','NTV-00040','NORTHERN VOLITION','KMT','KMT','KMT',N'SHIPPERS LOAD, COUNT & SEAL\\r\\nSAID TO CONTAIN\\r\\n1X20\\r\\n1,500 CARTONS\\r\\n15,0',N' ',null,null,'VNCTL'\""
      ]
     },
     "execution_count": 124,
     "metadata": {},
     "output_type": "execute_result"
    }
   ],
   "source": [
    "','.join(row)"
   ]
  },
  {
   "cell_type": "code",
   "execution_count": null,
   "id": "169661f8",
   "metadata": {},
   "outputs": [],
   "source": []
  }
 ],
 "metadata": {
  "kernelspec": {
   "display_name": "Python 3 (ipykernel)",
   "language": "python",
   "name": "python3"
  },
  "language_info": {
   "codemirror_mode": {
    "name": "ipython",
    "version": 3
   },
   "file_extension": ".py",
   "mimetype": "text/x-python",
   "name": "python",
   "nbconvert_exporter": "python",
   "pygments_lexer": "ipython3",
   "version": "3.9.10"
  }
 },
 "nbformat": 4,
 "nbformat_minor": 5
}
