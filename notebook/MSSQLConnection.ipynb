{
 "cells": [
  {
   "cell_type": "code",
   "execution_count": 4,
   "id": "4e6b162e",
   "metadata": {},
   "outputs": [],
   "source": [
    "import pandas, re, os, datetime"
   ]
  },
  {
   "cell_type": "code",
   "execution_count": 6,
   "id": "50bbab7c",
   "metadata": {},
   "outputs": [],
   "source": [
    "path_TOPO = '../../Data_SNP_Intern/TOPO_DATA_DESCRIPTION.xlsx'\n",
    "file = pandas.ExcelFile(path_TOPO)\n",
    "sheets = file.sheet_names\n",
    "sheets.remove(\"TOPOVN\")"
   ]
  },
  {
   "cell_type": "code",
   "execution_count": 3,
   "id": "e1acad29",
   "metadata": {},
   "outputs": [
    {
     "ename": "OperationalError",
     "evalue": "('08001', '[08001] [Microsoft][ODBC SQL Server Driver][DBNETLIB]SQL Server does not exist or access denied. (17) (SQLDriverConnect); [08001] [Microsoft][ODBC SQL Server Driver][DBNETLIB]ConnectionOpen (Connect()). (2)')",
     "output_type": "error",
     "traceback": [
      "\u001b[1;31m---------------------------------------------------------------------------\u001b[0m",
      "\u001b[1;31mOperationalError\u001b[0m                          Traceback (most recent call last)",
      "Input \u001b[1;32mIn [3]\u001b[0m, in \u001b[0;36m<cell line: 1>\u001b[1;34m()\u001b[0m\n\u001b[1;32m----> 1\u001b[0m connection \u001b[38;5;241m=\u001b[39m \u001b[43mpyodbc\u001b[49m\u001b[38;5;241;43m.\u001b[39;49m\u001b[43mconnect\u001b[49m\u001b[43m(\u001b[49m\u001b[43mconnection_string\u001b[49m\u001b[43m)\u001b[49m\n\u001b[0;32m      2\u001b[0m cursor \u001b[38;5;241m=\u001b[39m connection\u001b[38;5;241m.\u001b[39mcursor()\n",
      "\u001b[1;31mOperationalError\u001b[0m: ('08001', '[08001] [Microsoft][ODBC SQL Server Driver][DBNETLIB]SQL Server does not exist or access denied. (17) (SQLDriverConnect); [08001] [Microsoft][ODBC SQL Server Driver][DBNETLIB]ConnectionOpen (Connect()). (2)')"
     ]
    }
   ],
   "source": [
    "def GetColumns"
   ]
  },
  {
   "cell_type": "code",
   "execution_count": 4,
   "id": "f7a3ccc3",
   "metadata": {},
   "outputs": [],
   "source": [
    "cursor = connection.cursor()"
   ]
  },
  {
   "cell_type": "code",
   "execution_count": null,
   "id": "d2f835a5",
   "metadata": {},
   "outputs": [],
   "source": [
    "connection.close()"
   ]
  },
  {
   "cell_type": "code",
   "execution_count": 14,
   "id": "f7aff705",
   "metadata": {},
   "outputs": [
    {
     "name": "stdout",
     "output_type": "stream",
     "text": [
      "None\n"
     ]
    }
   ],
   "source": [
    "print(result.fetchone())"
   ]
  },
  {
   "cell_type": "code",
   "execution_count": 6,
   "id": "1f7e05a8",
   "metadata": {},
   "outputs": [],
   "source": [
    "import os, pandas"
   ]
  },
  {
   "cell_type": "code",
   "execution_count": 7,
   "id": "4a0f1597",
   "metadata": {},
   "outputs": [],
   "source": [
    "path = '../../Data_SNP_Intern/'\n",
    "files = os.listdir(path)\n",
    "files.remove('TOPO_DATA_DESCRIPTION.xlsx')"
   ]
  },
  {
   "cell_type": "code",
   "execution_count": 74,
   "id": "763f259a",
   "metadata": {},
   "outputs": [],
   "source": [
    "name = files[0]\n",
    "data = pandas.read_excel(path+name)\n",
    "# data = data.fillna(\"null\")"
   ]
  },
  {
   "cell_type": "code",
   "execution_count": 9,
   "id": "d2283418",
   "metadata": {},
   "outputs": [],
   "source": [
    "columns = list(data.columns)"
   ]
  },
  {
   "cell_type": "code",
   "execution_count": 55,
   "id": "3c18ee01",
   "metadata": {},
   "outputs": [],
   "source": [
    "name = name[name.index('_')+1 : name.index('.')]"
   ]
  },
  {
   "cell_type": "code",
   "execution_count": 56,
   "id": "b6ca8377",
   "metadata": {},
   "outputs": [
    {
     "data": {
      "text/plain": [
       "'OPEARATION_METHOD'"
      ]
     },
     "execution_count": 56,
     "metadata": {},
     "output_type": "execute_result"
    }
   ],
   "source": [
    "name"
   ]
  },
  {
   "cell_type": "code",
   "execution_count": 26,
   "id": "78e4d7c9",
   "metadata": {},
   "outputs": [],
   "source": [
    "columns = ['OPERATION_METHOD', 'CHARGE_CD', 'CATEGORY', 'SPEC_HDL_CD', 'OPERATION_NAME', 'CRT_TS', 'SITE_ID', 'OPERATION_TYPE', 'TERMINAL_ID', 'MOVE_REASON_CD', 'DIRECT_IMP_EXP', 'PLACE_OF_RECEIPT', 'PLACE_OF_DELIVERY', 'OUT_VOYAGE_INFO_FLG']"
   ]
  },
  {
   "cell_type": "code",
   "execution_count": 67,
   "id": "2ae4144e",
   "metadata": {},
   "outputs": [],
   "source": [
    "data = data[columns]\n",
    "def ConvertToSQLQuery(lst):\n",
    "    result = []\n",
    "    for val in lst:\n",
    "        if val.isalpha():\n",
    "            result.append(\"'%s'\"%(val))\n",
    "        "
   ]
  },
  {
   "cell_type": "code",
   "execution_count": 75,
   "id": "bbed827f",
   "metadata": {},
   "outputs": [
    {
     "data": {
      "text/plain": [
       "['HAHN',\n",
       " 'HAHN',\n",
       " 'I',\n",
       " nan,\n",
       " 'Hạ cont hàng nhập',\n",
       " '16/05/2014 10:38:50',\n",
       " 'CTL',\n",
       " 'RECV',\n",
       " nan,\n",
       " nan,\n",
       " nan,\n",
       " nan,\n",
       " nan,\n",
       " nan,\n",
       " nan,\n",
       " nan,\n",
       " 'Y',\n",
       " nan,\n",
       " nan,\n",
       " nan,\n",
       " nan]"
      ]
     },
     "execution_count": 75,
     "metadata": {},
     "output_type": "execute_result"
    }
   ],
   "source": [
    "row = data.loc[1].tolist()\n",
    "row"
   ]
  },
  {
   "cell_type": "code",
   "execution_count": 69,
   "id": "e7e4426a",
   "metadata": {},
   "outputs": [],
   "source": [
    "command = \"insert into {table}({columns}) values ({value})\".format(\n",
    "table = name,\n",
    "columns = ','.join(columns),\n",
    "value = ','.join(row))"
   ]
  },
  {
   "cell_type": "code",
   "execution_count": 70,
   "id": "ff95706a",
   "metadata": {},
   "outputs": [
    {
     "data": {
      "text/plain": [
       "(14, 14)"
      ]
     },
     "execution_count": 70,
     "metadata": {},
     "output_type": "execute_result"
    }
   ],
   "source": [
    "len(row), len(columns)"
   ]
  },
  {
   "cell_type": "code",
   "execution_count": 71,
   "id": "4deccec7",
   "metadata": {},
   "outputs": [
    {
     "data": {
      "text/plain": [
       "\"insert into OPEARATION_METHOD(OPERATION_METHOD,CHARGE_CD,CATEGORY,SPEC_HDL_CD,OPERATION_NAME,CRT_TS,SITE_ID,OPERATION_TYPE,TERMINAL_ID,MOVE_REASON_CD,DIRECT_IMP_EXP,PLACE_OF_RECEIPT,PLACE_OF_DELIVERY,OUT_VOYAGE_INFO_FLG) values ('HAHN','HAHN','I','null','Hạ cont hàng nhập','16/05/2014 10:38:50','CTL','RECV','null','null','null','null','null','null')\""
      ]
     },
     "execution_count": 71,
     "metadata": {},
     "output_type": "execute_result"
    }
   ],
   "source": [
    "command"
   ]
  },
  {
   "cell_type": "code",
   "execution_count": 76,
   "id": "fb8a8454",
   "metadata": {},
   "outputs": [
    {
     "data": {
      "text/plain": [
       "False"
      ]
     },
     "execution_count": 76,
     "metadata": {},
     "output_type": "execute_result"
    }
   ],
   "source": [
    "'16/05/2014 10:38:50'.isalpha()"
   ]
  },
  {
   "cell_type": "code",
   "execution_count": null,
   "id": "9dd19e00",
   "metadata": {},
   "outputs": [],
   "source": []
  }
 ],
 "metadata": {
  "kernelspec": {
   "display_name": "Python 3 (ipykernel)",
   "language": "python",
   "name": "python3"
  },
  "language_info": {
   "codemirror_mode": {
    "name": "ipython",
    "version": 3
   },
   "file_extension": ".py",
   "mimetype": "text/x-python",
   "name": "python",
   "nbconvert_exporter": "python",
   "pygments_lexer": "ipython3",
   "version": "3.9.10"
  }
 },
 "nbformat": 4,
 "nbformat_minor": 5
}
