{
 "cells": [
  {
   "cell_type": "code",
   "execution_count": 1,
   "id": "5f4c7712",
   "metadata": {},
   "outputs": [],
   "source": [
    "import pandas, urllib, datetime\n",
    "\n",
    "import pandas.io.sql as psql\n",
    "from sqlalchemy import create_engine\n",
    "\n",
    "params = urllib.parse.quote_plus('DRIVER={ODBC Driver 17 for SQL Server};SERVER=%s,%s;DATABASE=%s;UID=%s;PWD=%s'%('localhost', '1433', 'ThuctapSNP', 'sa', 'Matkhau1234'))\n",
    "engine = create_engine('mssql+pyodbc:///?odbc_connect=%s'%params)"
   ]
  },
  {
   "cell_type": "code",
   "execution_count": 2,
   "id": "c84f2ed4",
   "metadata": {},
   "outputs": [],
   "source": [
    "ITEM = pandas.read_sql('select * from ITEM', engine)\n",
    "ITEM_REEFER = pandas.read_sql('select * from ITEM_REEFER', engine)\n",
    "ITEM_DANGEROUS = pandas.read_sql('select * from ITEM_DANGEROUS', engine)\n",
    "ITEM_OOG = pandas.read_sql('select * from ITEM_OOG', engine)\n",
    "ITEM_LOCATION = pandas.read_sql('select * from ITEM_LOCATION', engine)\n",
    "PREGATE_TRANSACT = pandas.read_sql('select * from PREGATE_TRANSACT', engine)\n",
    "YARD_AREA = pandas.read_sql('select * from YARD_AREA', engine)"
   ]
  },
  {
   "cell_type": "code",
   "execution_count": 3,
   "id": "f1c972a9",
   "metadata": {},
   "outputs": [],
   "source": [
    "item = ITEM.loc[\n",
    "    (ITEM['SITE_ID'].str.strip()=='CTL') & \n",
    "    (ITEM['ARR_BY'].str.strip()=='T') & \n",
    "    (ITEM['HIST_FLG'].str.strip()=='Y') & \n",
    "    (ITEM['FEL'].str.strip()=='F')]\n",
    "item = item.drop(['ITEM_TYPE'], axis=1)"
   ]
  },
  {
   "cell_type": "code",
   "execution_count": 7,
   "id": "aa3a8ed8",
   "metadata": {},
   "outputs": [],
   "source": [
    "ITEM_REEFER['ITEM_TYPE'] = 'R'\n",
    "reefer = pandas.merge(ITEM_REEFER, item, how='inner', on='ITEM_KEY')\n",
    "reefer = reefer[['ITEM_KEY', 'ITEM_TYPE',]]\n",
    "\n",
    "ITEM_DANGEROUS['ITEM_TYPE'] = 'D'\n",
    "dangerous = pandas.merge(ITEM_DANGEROUS, item, how='inner', on='ITEM_KEY')\n",
    "dangerous = dangerous[['ITEM_KEY', 'ITEM_TYPE']]\n",
    "\n",
    "ITEM_OOG['ITEM_TYPE'] = 'O'\n",
    "oog = pandas.merge(ITEM_OOG, item, how='inner', on='ITEM_KEY')\n",
    "oog = oog[['ITEM_KEY', 'ITEM_TYPE']]"
   ]
  },
  {
   "cell_type": "code",
   "execution_count": 8,
   "id": "d372961b",
   "metadata": {},
   "outputs": [],
   "source": [
    "item_special = pandas.concat([reefer, dangerous, oog], axis=0)"
   ]
  },
  {
   "cell_type": "code",
   "execution_count": 9,
   "id": "3fb86ada",
   "metadata": {},
   "outputs": [],
   "source": [
    "item = item[['ITEM_KEY', 'ITEM_NO', 'LENGTH', 'ARR_TS', 'DEP_TS']]"
   ]
  },
  {
   "cell_type": "code",
   "execution_count": 10,
   "id": "83d4bb7c",
   "metadata": {},
   "outputs": [],
   "source": [
    "item = pandas.merge(item, item_special, how='left', on=['ITEM_KEY']).fillna({'ITEM_TYPE':'G'})"
   ]
  },
  {
   "cell_type": "code",
   "execution_count": 46,
   "id": "17b6e17d",
   "metadata": {},
   "outputs": [],
   "source": [
    "unique_location = set([tuple(row) for i, row in YARD_AREA[['REGION', 'AREA', 'STACK']].iterrows()])\n",
    "while len(unique_location) > 0:\n",
    "    engine.execute('insert into d_LOCATION values {}'.format(unique_location.pop()))"
   ]
  },
  {
   "cell_type": "code",
   "execution_count": 11,
   "id": "d0f60ab2",
   "metadata": {},
   "outputs": [],
   "source": [
    "location = pandas.read_sql('select * from d_LOCATION', engine)"
   ]
  },
  {
   "cell_type": "code",
   "execution_count": 12,
   "id": "29482f28",
   "metadata": {},
   "outputs": [],
   "source": [
    "pregate = PREGATE_TRANSACT[['ITEM_KEY', 'R_D', 'AREA']]\n",
    "item_loc = ITEM_LOCATION[['ITEM_KEY', 'STACK', 'EXEC_TS']]"
   ]
  },
  {
   "cell_type": "code",
   "execution_count": 13,
   "id": "7f2d68b7",
   "metadata": {},
   "outputs": [],
   "source": [
    "stg_transact = pandas.merge(item, pregate, how='inner', on='ITEM_KEY').dropna(subset=['R_D'])\n",
    "stg_transact = stg_transact.reset_index(drop=True)"
   ]
  },
  {
   "cell_type": "code",
   "execution_count": 31,
   "id": "4cfa8292",
   "metadata": {},
   "outputs": [],
   "source": [
    "stg_transact['EXEC_TS'] = None\n",
    "stg_transact['STACK'] = None\n",
    "for i in range(len(stg_transact)):\n",
    "    row = stg_transact.loc[i]\n",
    "    item_key = row['ITEM_KEY']\n",
    "    r_d = row['R_D'].strip()\n",
    "    if r_d == 'R':\n",
    "        if row['ARR_TS'].to_pydatetime().year > 1900:\n",
    "            stg_transact.loc[i, 'EXEC_TS'] = row['ARR_TS']\n",
    "            try:\n",
    "                stack = item_loc.loc[(item_loc['ITEM_KEY']==item_key) & (item_loc['EXEC_TS']>row['ARR_TS'])].sort_values(['EXEC_TS'], ascending=[True])['STACK'].tolist()[0]\n",
    "                stg_transact.loc[i, 'STACK'] = stack\n",
    "            except:\n",
    "                pass\n",
    "        else:\n",
    "            stg_transact.drop(i)\n",
    "    elif r_d == 'D':\n",
    "        if row['DEP_TS'].to_pydatetime().year > 1900:\n",
    "            stg_transact.loc[i, 'EXEC_TS'] = row['DEP_TS']\n",
    "            try:\n",
    "                stack = item_loc.loc[(item_loc['ITEM_KEY']==item_key) & (item_loc['EXEC_TS']>row['DEP_TS'])].sort_values(['EXEC_TS'], ascending=[False])['STACK'].tolist()[0]\n",
    "                stg_transact.loc[i, 'STACK'] = stack\n",
    "            except:\n",
    "                pass\n",
    "        else:\n",
    "            stg_transact.drop(i)"
   ]
  },
  {
   "cell_type": "code",
   "execution_count": 62,
   "id": "debdc5ea",
   "metadata": {},
   "outputs": [],
   "source": [
    "sample = pandas.merge(stg_transact, item_loc, how='left', on='ITEM_KEY')"
   ]
  },
  {
   "cell_type": "code",
   "execution_count": 22,
   "id": "2ff6c143",
   "metadata": {},
   "outputs": [],
   "source": [
    "stg_transact['DURATION'] = stg_transact['DEP_TS'] - stg_transact['ARR_TS']"
   ]
  },
  {
   "cell_type": "code",
   "execution_count": 23,
   "id": "d017aadc",
   "metadata": {},
   "outputs": [],
   "source": [
    "stg_transact['DURATION'] = stg_transact['DURATION'].apply(pandas.Timedelta.total_seconds)"
   ]
  },
  {
   "cell_type": "code",
   "execution_count": 41,
   "id": "7a4fbb61",
   "metadata": {},
   "outputs": [
    {
     "data": {
      "text/html": [
       "<div>\n",
       "<style scoped>\n",
       "    .dataframe tbody tr th:only-of-type {\n",
       "        vertical-align: middle;\n",
       "    }\n",
       "\n",
       "    .dataframe tbody tr th {\n",
       "        vertical-align: top;\n",
       "    }\n",
       "\n",
       "    .dataframe thead th {\n",
       "        text-align: right;\n",
       "    }\n",
       "</style>\n",
       "<table border=\"1\" class=\"dataframe\">\n",
       "  <thead>\n",
       "    <tr style=\"text-align: right;\">\n",
       "      <th></th>\n",
       "      <th>ITEM_KEY</th>\n",
       "      <th>ITEM_NO</th>\n",
       "      <th>LENGTH</th>\n",
       "      <th>ARR_TS</th>\n",
       "      <th>DEP_TS</th>\n",
       "      <th>ITEM_TYPE</th>\n",
       "      <th>R_D</th>\n",
       "      <th>AREA</th>\n",
       "      <th>EXEC_TS</th>\n",
       "      <th>STACK</th>\n",
       "      <th>DURATION</th>\n",
       "    </tr>\n",
       "  </thead>\n",
       "  <tbody>\n",
       "    <tr>\n",
       "      <th>0</th>\n",
       "      <td>12767774</td>\n",
       "      <td>YMLU3451130</td>\n",
       "      <td>20.0</td>\n",
       "      <td>2019-01-01 00:00:10</td>\n",
       "      <td>2019-01-07 18:44:54</td>\n",
       "      <td>G</td>\n",
       "      <td>R</td>\n",
       "      <td>KHX</td>\n",
       "      <td>2019-01-01 00:00:10</td>\n",
       "      <td>K09</td>\n",
       "      <td>585884.0</td>\n",
       "    </tr>\n",
       "    <tr>\n",
       "      <th>1</th>\n",
       "      <td>12767781</td>\n",
       "      <td>MNBU3459229</td>\n",
       "      <td>40.0</td>\n",
       "      <td>2019-01-01 00:01:03</td>\n",
       "      <td>2019-01-03 01:27:53</td>\n",
       "      <td>R</td>\n",
       "      <td>R</td>\n",
       "      <td>KHL</td>\n",
       "      <td>2019-01-01 00:01:03</td>\n",
       "      <td>L32</td>\n",
       "      <td>178010.0</td>\n",
       "    </tr>\n",
       "    <tr>\n",
       "      <th>2</th>\n",
       "      <td>12767788</td>\n",
       "      <td>MNBU0228951</td>\n",
       "      <td>40.0</td>\n",
       "      <td>2019-01-01 00:03:41</td>\n",
       "      <td>2019-01-03 01:23:05</td>\n",
       "      <td>R</td>\n",
       "      <td>R</td>\n",
       "      <td>KHL</td>\n",
       "      <td>2019-01-01 00:03:41</td>\n",
       "      <td>L32</td>\n",
       "      <td>177564.0</td>\n",
       "    </tr>\n",
       "    <tr>\n",
       "      <th>3</th>\n",
       "      <td>12767793</td>\n",
       "      <td>KKFU6769433</td>\n",
       "      <td>40.0</td>\n",
       "      <td>2019-01-01 00:05:07</td>\n",
       "      <td>2019-01-04 02:48:36</td>\n",
       "      <td>R</td>\n",
       "      <td>R</td>\n",
       "      <td>KHL</td>\n",
       "      <td>2019-01-01 00:05:07</td>\n",
       "      <td>L28</td>\n",
       "      <td>269009.0</td>\n",
       "    </tr>\n",
       "    <tr>\n",
       "      <th>4</th>\n",
       "      <td>12767793</td>\n",
       "      <td>KKFU6769433</td>\n",
       "      <td>40.0</td>\n",
       "      <td>2019-01-01 00:05:07</td>\n",
       "      <td>2019-01-04 02:48:36</td>\n",
       "      <td>R</td>\n",
       "      <td>D</td>\n",
       "      <td>KHL</td>\n",
       "      <td>2019-01-04 02:48:36</td>\n",
       "      <td>None</td>\n",
       "      <td>269009.0</td>\n",
       "    </tr>\n",
       "    <tr>\n",
       "      <th>...</th>\n",
       "      <td>...</td>\n",
       "      <td>...</td>\n",
       "      <td>...</td>\n",
       "      <td>...</td>\n",
       "      <td>...</td>\n",
       "      <td>...</td>\n",
       "      <td>...</td>\n",
       "      <td>...</td>\n",
       "      <td>...</td>\n",
       "      <td>...</td>\n",
       "      <td>...</td>\n",
       "    </tr>\n",
       "    <tr>\n",
       "      <th>17825</th>\n",
       "      <td>20078545</td>\n",
       "      <td>WHSU2090123</td>\n",
       "      <td>20.0</td>\n",
       "      <td>2020-11-01 00:29:30</td>\n",
       "      <td>2020-11-04 08:24:40</td>\n",
       "      <td>G</td>\n",
       "      <td>R</td>\n",
       "      <td>GNL</td>\n",
       "      <td>2020-11-01 00:29:30</td>\n",
       "      <td>Q04</td>\n",
       "      <td>287710.0</td>\n",
       "    </tr>\n",
       "    <tr>\n",
       "      <th>17826</th>\n",
       "      <td>20078544</td>\n",
       "      <td>DFSU2179820</td>\n",
       "      <td>20.0</td>\n",
       "      <td>2020-11-01 00:29:34</td>\n",
       "      <td>2020-11-03 00:10:56</td>\n",
       "      <td>G</td>\n",
       "      <td>D</td>\n",
       "      <td>None</td>\n",
       "      <td>2020-11-03 00:10:56</td>\n",
       "      <td>None</td>\n",
       "      <td>171682.0</td>\n",
       "    </tr>\n",
       "    <tr>\n",
       "      <th>17827</th>\n",
       "      <td>20078544</td>\n",
       "      <td>DFSU2179820</td>\n",
       "      <td>20.0</td>\n",
       "      <td>2020-11-01 00:29:34</td>\n",
       "      <td>2020-11-03 00:10:56</td>\n",
       "      <td>G</td>\n",
       "      <td>R</td>\n",
       "      <td>KHN</td>\n",
       "      <td>2020-11-01 00:29:34</td>\n",
       "      <td>D14</td>\n",
       "      <td>171682.0</td>\n",
       "    </tr>\n",
       "    <tr>\n",
       "      <th>17828</th>\n",
       "      <td>20078548</td>\n",
       "      <td>BEAU2527641</td>\n",
       "      <td>20.0</td>\n",
       "      <td>2020-11-01 00:29:42</td>\n",
       "      <td>2020-11-08 08:22:29</td>\n",
       "      <td>G</td>\n",
       "      <td>R</td>\n",
       "      <td>GNL</td>\n",
       "      <td>2020-11-01 00:29:42</td>\n",
       "      <td>Q04</td>\n",
       "      <td>633167.0</td>\n",
       "    </tr>\n",
       "    <tr>\n",
       "      <th>17829</th>\n",
       "      <td>20078549</td>\n",
       "      <td>GESU3739895</td>\n",
       "      <td>20.0</td>\n",
       "      <td>2020-11-01 00:29:49</td>\n",
       "      <td>2020-11-06 08:52:58</td>\n",
       "      <td>G</td>\n",
       "      <td>R</td>\n",
       "      <td>KHN</td>\n",
       "      <td>2020-11-01 00:29:49</td>\n",
       "      <td>D01</td>\n",
       "      <td>462189.0</td>\n",
       "    </tr>\n",
       "  </tbody>\n",
       "</table>\n",
       "<p>17830 rows × 11 columns</p>\n",
       "</div>"
      ],
      "text/plain": [
       "       ITEM_KEY       ITEM_NO  LENGTH              ARR_TS              DEP_TS  \\\n",
       "0      12767774  YMLU3451130     20.0 2019-01-01 00:00:10 2019-01-07 18:44:54   \n",
       "1      12767781  MNBU3459229     40.0 2019-01-01 00:01:03 2019-01-03 01:27:53   \n",
       "2      12767788  MNBU0228951     40.0 2019-01-01 00:03:41 2019-01-03 01:23:05   \n",
       "3      12767793  KKFU6769433     40.0 2019-01-01 00:05:07 2019-01-04 02:48:36   \n",
       "4      12767793  KKFU6769433     40.0 2019-01-01 00:05:07 2019-01-04 02:48:36   \n",
       "...         ...           ...     ...                 ...                 ...   \n",
       "17825  20078545  WHSU2090123     20.0 2020-11-01 00:29:30 2020-11-04 08:24:40   \n",
       "17826  20078544  DFSU2179820     20.0 2020-11-01 00:29:34 2020-11-03 00:10:56   \n",
       "17827  20078544  DFSU2179820     20.0 2020-11-01 00:29:34 2020-11-03 00:10:56   \n",
       "17828  20078548  BEAU2527641     20.0 2020-11-01 00:29:42 2020-11-08 08:22:29   \n",
       "17829  20078549  GESU3739895     20.0 2020-11-01 00:29:49 2020-11-06 08:52:58   \n",
       "\n",
       "      ITEM_TYPE   R_D   AREA              EXEC_TS STACK  DURATION  \n",
       "0             G  R     KHX    2019-01-01 00:00:10  K09   585884.0  \n",
       "1             R  R     KHL    2019-01-01 00:01:03  L32   178010.0  \n",
       "2             R  R     KHL    2019-01-01 00:03:41  L32   177564.0  \n",
       "3             R  R     KHL    2019-01-01 00:05:07  L28   269009.0  \n",
       "4             R  D     KHL    2019-01-04 02:48:36  None  269009.0  \n",
       "...         ...   ...    ...                  ...   ...       ...  \n",
       "17825         G  R     GNL    2020-11-01 00:29:30  Q04   287710.0  \n",
       "17826         G  D      None  2020-11-03 00:10:56  None  171682.0  \n",
       "17827         G  R     KHN    2020-11-01 00:29:34  D14   171682.0  \n",
       "17828         G  R     GNL    2020-11-01 00:29:42  Q04   633167.0  \n",
       "17829         G  R     KHN    2020-11-01 00:29:49  D01   462189.0  \n",
       "\n",
       "[17830 rows x 11 columns]"
      ]
     },
     "execution_count": 41,
     "metadata": {},
     "output_type": "execute_result"
    }
   ],
   "source": [
    "stg_transact"
   ]
  },
  {
   "cell_type": "code",
   "execution_count": 46,
   "id": "3b027ae6",
   "metadata": {},
   "outputs": [],
   "source": [
    "stg_transact = stg_transact.astype({\n",
    "    'LENGTH' : 'float',\n",
    "    'EXEC_TS' : 'datetime64',\n",
    "    'DURATION' : 'int64'\n",
    "})"
   ]
  },
  {
   "cell_type": "code",
   "execution_count": 51,
   "id": "99f0865e",
   "metadata": {},
   "outputs": [],
   "source": [
    "stg_transact = stg_transact[['ITEM_KEY', 'ITEM_NO', 'LENGTH', 'AREA', 'STACK', 'R_D', 'DURATION', 'EXEC_TS', 'ITEM_TYPE']]"
   ]
  },
  {
   "cell_type": "code",
   "execution_count": 52,
   "id": "a9893807",
   "metadata": {},
   "outputs": [],
   "source": [
    "import pandas.io.sql as psql"
   ]
  },
  {
   "cell_type": "code",
   "execution_count": 55,
   "id": "74ae18c6",
   "metadata": {},
   "outputs": [
    {
     "data": {
      "text/plain": [
       "-1"
      ]
     },
     "execution_count": 55,
     "metadata": {},
     "output_type": "execute_result"
    }
   ],
   "source": [
    "psql.to_sql(stg_transact, 'stg_TRANSACT', engine, if_exists='append', index=False)"
   ]
  },
  {
   "cell_type": "code",
   "execution_count": null,
   "id": "db271391",
   "metadata": {},
   "outputs": [],
   "source": []
  }
 ],
 "metadata": {
  "kernelspec": {
   "display_name": "Python 3 (ipykernel)",
   "language": "python",
   "name": "python3"
  },
  "language_info": {
   "codemirror_mode": {
    "name": "ipython",
    "version": 3
   },
   "file_extension": ".py",
   "mimetype": "text/x-python",
   "name": "python",
   "nbconvert_exporter": "python",
   "pygments_lexer": "ipython3",
   "version": "3.9.10"
  }
 },
 "nbformat": 4,
 "nbformat_minor": 5
}
